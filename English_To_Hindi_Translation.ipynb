{
  "cells": [
    {
      "cell_type": "markdown",
      "source": [
        "[![Open In Colab](https://colab.research.google.com/assets/colab-badge.svg)](https://colab.research.google.com/github/Dev-Khant/English-to-Hindi-Translation/blob/main/English_To_Hindi_Translation.ipynb)"
      ],
      "metadata": {
        "id": "Fz39iN2AQna5"
      },
      "id": "Fz39iN2AQna5"
    },
    {
      "cell_type": "markdown",
      "id": "09fb303a",
      "metadata": {
        "papermill": {
          "duration": 0.0336,
          "end_time": "2021-12-18T08:31:44.840728",
          "exception": false,
          "start_time": "2021-12-18T08:31:44.807128",
          "status": "completed"
        },
        "tags": [],
        "id": "09fb303a"
      },
      "source": [
        "### This [article](https://keras.io/examples/nlp/neural_machine_translation_with_transformer/) by François Chollet helped a lot to understand the implementation of Transformers."
      ]
    },
    {
      "cell_type": "markdown",
      "id": "e61ced7a",
      "metadata": {
        "papermill": {
          "duration": 0.031251,
          "end_time": "2021-12-18T08:31:44.903652",
          "exception": false,
          "start_time": "2021-12-18T08:31:44.872401",
          "status": "completed"
        },
        "tags": [],
        "id": "e61ced7a"
      },
      "source": [
        "## Importing Libraries"
      ]
    },
    {
      "cell_type": "code",
      "execution_count": null,
      "id": "1b1bf58a",
      "metadata": {
        "_cell_guid": "b1076dfc-b9ad-4769-8c92-a6c4dae69d19",
        "_uuid": "8f2839f25d086af736a60e9eeb907d3b93b6e0e5",
        "execution": {
          "iopub.execute_input": "2021-12-18T08:31:44.979473Z",
          "iopub.status.busy": "2021-12-18T08:31:44.978830Z",
          "iopub.status.idle": "2021-12-18T08:31:50.274511Z",
          "shell.execute_reply": "2021-12-18T08:31:50.274934Z",
          "shell.execute_reply.started": "2021-12-18T06:31:40.633119Z"
        },
        "papermill": {
          "duration": 5.340708,
          "end_time": "2021-12-18T08:31:50.275239",
          "exception": false,
          "start_time": "2021-12-18T08:31:44.934531",
          "status": "completed"
        },
        "tags": [],
        "id": "1b1bf58a"
      },
      "outputs": [],
      "source": [
        "# Importing libraries\n",
        "import os\n",
        "import pickle\n",
        "import pandas as pd\n",
        "import numpy as np\n",
        "import random\n",
        "import string\n",
        "import re\n",
        "import numpy as np\n",
        "from nltk.translate.bleu_score import sentence_bleu\n",
        "import tensorflow as tf\n",
        "from tensorflow import keras\n",
        "from tensorflow.keras import layers\n",
        "from tensorflow.keras.callbacks import EarlyStopping, ReduceLROnPlateau\n",
        "from tensorflow.keras.layers import TextVectorization\n",
        "\n",
        "import warnings\n",
        "warnings.filterwarnings(\"ignore\")"
      ]
    },
    {
      "cell_type": "markdown",
      "id": "5aaf2008",
      "metadata": {
        "papermill": {
          "duration": 0.034058,
          "end_time": "2021-12-18T08:31:50.341250",
          "exception": false,
          "start_time": "2021-12-18T08:31:50.307192",
          "status": "completed"
        },
        "tags": [],
        "id": "5aaf2008"
      },
      "source": [
        "## Defining Parameters"
      ]
    },
    {
      "cell_type": "code",
      "execution_count": null,
      "id": "b3fc70a4",
      "metadata": {
        "execution": {
          "iopub.execute_input": "2021-12-18T08:31:50.409087Z",
          "iopub.status.busy": "2021-12-18T08:31:50.408102Z",
          "iopub.status.idle": "2021-12-18T08:31:50.409826Z",
          "shell.execute_reply": "2021-12-18T08:31:50.410263Z",
          "shell.execute_reply.started": "2021-12-18T06:19:00.542206Z"
        },
        "papermill": {
          "duration": 0.038257,
          "end_time": "2021-12-18T08:31:50.410410",
          "exception": false,
          "start_time": "2021-12-18T08:31:50.372153",
          "status": "completed"
        },
        "tags": [],
        "id": "b3fc70a4"
      },
      "outputs": [],
      "source": [
        "# Tranining Hyperparameters\n",
        "batch_size = 64\n",
        "\n",
        "# Model Hyperparameters\n",
        "embed_dim = 128\n",
        "num_heads = 10\n",
        "latent_dim = 2048\n",
        "vocab_size = 20000\n",
        "sequence_length = 20\n",
        "dropout = 0.2"
      ]
    },
    {
      "cell_type": "markdown",
      "id": "87a40d79",
      "metadata": {
        "papermill": {
          "duration": 0.030855,
          "end_time": "2021-12-18T08:31:50.471932",
          "exception": false,
          "start_time": "2021-12-18T08:31:50.441077",
          "status": "completed"
        },
        "tags": [],
        "id": "87a40d79"
      },
      "source": [
        "## Defining Functions"
      ]
    },
    {
      "cell_type": "code",
      "execution_count": null,
      "id": "95fb10b9",
      "metadata": {
        "execution": {
          "iopub.execute_input": "2021-12-18T08:31:50.546561Z",
          "iopub.status.busy": "2021-12-18T08:31:50.545723Z",
          "iopub.status.idle": "2021-12-18T08:31:50.547651Z",
          "shell.execute_reply": "2021-12-18T08:31:50.548014Z",
          "shell.execute_reply.started": "2021-12-18T06:19:03.643426Z"
        },
        "papermill": {
          "duration": 0.045545,
          "end_time": "2021-12-18T08:31:50.548204",
          "exception": false,
          "start_time": "2021-12-18T08:31:50.502659",
          "status": "completed"
        },
        "tags": [],
        "id": "95fb10b9"
      },
      "outputs": [],
      "source": [
        "def preprocess_text(df):\n",
        "    # Lowercase the characters\n",
        "    df[\"english_sent\"] = df[\"english_sent\"].apply(lambda x : x.lower())\n",
        "    df[\"hindi_sent\"] = df[\"hindi_sent\"].apply(lambda x : x.lower())\n",
        "\n",
        "    # Rmoving URLs\n",
        "    df[\"english_sent\"] = df[\"english_sent\"].apply(lambda x : re.sub(r\"http\\S+\", \"\", x))\n",
        "    df[\"hindi_sent\"] = df[\"hindi_sent\"].apply(lambda x : re.sub(r\"http\\S+\", \"\", x))\n",
        "\n",
        "    # Removing digits\n",
        "    remove_digits = str.maketrans(\"\", \"\",string.digits)\n",
        "    df[\"english_sent\"] = df[\"english_sent\"].apply(lambda x : x.translate(remove_digits))\n",
        "    df[\"hindi_sent\"] = df[\"hindi_sent\"].apply(lambda x : x.translate(remove_digits))\n",
        "    df[\"hindi_sent\"] = df[\"hindi_sent\"].apply(lambda x : re.sub(\"[a-zA-z२३०८१५७९४६]\", \"\", x))\n",
        "\n",
        "    # Remove special characters\n",
        "    special = set(string.punctuation)\n",
        "    df['english_sent'] = df['english_sent'].apply(lambda x : ''.join(ch for ch in x if ch not in special))\n",
        "    df['hindi_sent'] = df['hindi_sent'].apply(lambda x : ''.join(ch for ch in x if ch not in special))\n",
        "\n",
        "    # Remove quotes\n",
        "    df['english_sent'] = df['english_sent'].apply(lambda x: re.sub(\"'\", '', x))\n",
        "    df['hindi_sent'] = df['hindi_sent'].apply(lambda x: re.sub(\"'\", '', x))\n",
        "    \n",
        "    # Remove extra spaces\n",
        "    df['english_sent'] = df['english_sent'].apply(lambda x : x.strip())\n",
        "    df['hindi_sent'] = df['hindi_sent'].apply(lambda x : x.strip())\n",
        "    df['english_sent'] = df['english_sent'].apply(lambda x : re.sub(\" +\",\" \",x))\n",
        "    df['hindi_sent'] = df['hindi_sent'].apply(lambda x : re.sub(\" +\",\" \",x))\n",
        "    \n",
        "\n",
        "    # Add [start] and [end] tags\n",
        "    df[\"hindi_sent\"] = df[\"hindi_sent\"].apply(lambda x : \"[start] \" + x + \" [end]\")"
      ]
    },
    {
      "cell_type": "code",
      "execution_count": null,
      "id": "7ac019ff",
      "metadata": {
        "execution": {
          "iopub.execute_input": "2021-12-18T08:31:50.617036Z",
          "iopub.status.busy": "2021-12-18T08:31:50.616224Z",
          "iopub.status.idle": "2021-12-18T08:31:50.618283Z",
          "shell.execute_reply": "2021-12-18T08:31:50.618669Z",
          "shell.execute_reply.started": "2021-12-18T06:38:21.857077Z"
        },
        "papermill": {
          "duration": 0.039969,
          "end_time": "2021-12-18T08:31:50.618807",
          "exception": false,
          "start_time": "2021-12-18T08:31:50.578838",
          "status": "completed"
        },
        "tags": [],
        "id": "7ac019ff"
      },
      "outputs": [],
      "source": [
        "def decode_sequence(input_sentence):\n",
        "    hindi_vocab = hindi_vectorization.get_vocabulary()\n",
        "    hindi_index_lookup = dict(zip(range(len(hindi_vocab)), hindi_vocab))\n",
        "    max_decoded_sentence_length = 20\n",
        "    \n",
        "    tokenized_input_sentence = eng_vectorization([input_sentence])\n",
        "    decoded_sentence = \"[start]\"\n",
        "    for i in range(max_decoded_sentence_length):\n",
        "        tokenized_target_sentence = hindi_vectorization([decoded_sentence])[:, :-1]\n",
        "        predictions = transformer([tokenized_input_sentence, tokenized_target_sentence])\n",
        "\n",
        "        sampled_token_index = np.argmax(predictions[0, i, :])\n",
        "        sampled_token = hindi_index_lookup[sampled_token_index]\n",
        "        decoded_sentence += \" \" + sampled_token\n",
        "\n",
        "        if sampled_token == \"[end]\":\n",
        "            break\n",
        "    \n",
        "    return decoded_sentence[8:-5] # Removing [start] and [end] tokens"
      ]
    },
    {
      "cell_type": "code",
      "execution_count": null,
      "id": "a6edaf6b",
      "metadata": {
        "execution": {
          "iopub.execute_input": "2021-12-18T08:31:50.687049Z",
          "iopub.status.busy": "2021-12-18T08:31:50.686276Z",
          "iopub.status.idle": "2021-12-18T08:31:50.688636Z",
          "shell.execute_reply": "2021-12-18T08:31:50.688242Z",
          "shell.execute_reply.started": "2021-12-18T06:19:07.984066Z"
        },
        "papermill": {
          "duration": 0.038985,
          "end_time": "2021-12-18T08:31:50.688746",
          "exception": false,
          "start_time": "2021-12-18T08:31:50.649761",
          "status": "completed"
        },
        "tags": [],
        "id": "a6edaf6b"
      },
      "outputs": [],
      "source": [
        "# For creating Dataset\n",
        "def format_dataset(eng, hin):\n",
        "    eng = eng_vectorization(eng)\n",
        "    hindi = hindi_vectorization(hin)\n",
        "    return ({\"encoder_inputs\" : eng, \"decoder_inputs\" : hindi[:, :-1],}, hindi[:, 1:])\n",
        "\n",
        "\n",
        "def make_dataset(df):\n",
        "    dataset = tf.data.Dataset.from_tensor_slices((df[\"english_sent\"].values, df[\"hindi_sent\"].values))\n",
        "    dataset = dataset.batch(batch_size)\n",
        "    dataset = dataset.map(format_dataset)\n",
        "    return dataset.shuffle(2048).prefetch(16).cache()\n"
      ]
    },
    {
      "cell_type": "markdown",
      "id": "f3722d0f",
      "metadata": {
        "papermill": {
          "duration": 0.031119,
          "end_time": "2021-12-18T08:31:50.750803",
          "exception": false,
          "start_time": "2021-12-18T08:31:50.719684",
          "status": "completed"
        },
        "tags": [],
        "id": "f3722d0f"
      },
      "source": [
        "## Reading Data & Preprocessing Text"
      ]
    },
    {
      "cell_type": "code",
      "execution_count": null,
      "id": "dc05ecc8",
      "metadata": {
        "execution": {
          "iopub.execute_input": "2021-12-18T08:31:50.817848Z",
          "iopub.status.busy": "2021-12-18T08:31:50.817267Z",
          "iopub.status.idle": "2021-12-18T08:31:52.242939Z",
          "shell.execute_reply": "2021-12-18T08:31:52.243398Z",
          "shell.execute_reply.started": "2021-12-18T06:32:18.965285Z"
        },
        "papermill": {
          "duration": 1.461946,
          "end_time": "2021-12-18T08:31:52.243565",
          "exception": false,
          "start_time": "2021-12-18T08:31:50.781619",
          "status": "completed"
        },
        "tags": [],
        "id": "dc05ecc8",
        "outputId": "7bc0d95c-5a00-4592-89eb-f1050fd34741"
      },
      "outputs": [
        {
          "data": {
            "text/html": [
              "<div>\n",
              "<style scoped>\n",
              "    .dataframe tbody tr th:only-of-type {\n",
              "        vertical-align: middle;\n",
              "    }\n",
              "\n",
              "    .dataframe tbody tr th {\n",
              "        vertical-align: top;\n",
              "    }\n",
              "\n",
              "    .dataframe thead th {\n",
              "        text-align: right;\n",
              "    }\n",
              "</style>\n",
              "<table border=\"1\" class=\"dataframe\">\n",
              "  <thead>\n",
              "    <tr style=\"text-align: right;\">\n",
              "      <th></th>\n",
              "      <th>english_sent</th>\n",
              "      <th>hindi_sent</th>\n",
              "    </tr>\n",
              "  </thead>\n",
              "  <tbody>\n",
              "    <tr>\n",
              "      <th>0</th>\n",
              "      <td>politicians do not have permission to do what ...</td>\n",
              "      <td>राजनीतिज्ञों के पास जो कार्य करना चाहिए, वह कर...</td>\n",
              "    </tr>\n",
              "    <tr>\n",
              "      <th>1</th>\n",
              "      <td>I'd like to tell you about one such child,</td>\n",
              "      <td>मई आपको ऐसे ही एक बच्चे के बारे में बताना चाहू...</td>\n",
              "    </tr>\n",
              "    <tr>\n",
              "      <th>2</th>\n",
              "      <td>This percentage is even greater than the perce...</td>\n",
              "      <td>यह प्रतिशत भारत में हिन्दुओं प्रतिशत से अधिक है।</td>\n",
              "    </tr>\n",
              "    <tr>\n",
              "      <th>3</th>\n",
              "      <td>what we really mean is that they're bad at not...</td>\n",
              "      <td>हम ये नहीं कहना चाहते कि वो ध्यान नहीं दे पाते</td>\n",
              "    </tr>\n",
              "    <tr>\n",
              "      <th>4</th>\n",
              "      <td>.The ending portion of these Vedas is called U...</td>\n",
              "      <td>इन्हीं वेदों का अंतिम भाग उपनिषद कहलाता है।</td>\n",
              "    </tr>\n",
              "  </tbody>\n",
              "</table>\n",
              "</div>"
            ],
            "text/plain": [
              "                                        english_sent  \\\n",
              "0  politicians do not have permission to do what ...   \n",
              "1         I'd like to tell you about one such child,   \n",
              "2  This percentage is even greater than the perce...   \n",
              "3  what we really mean is that they're bad at not...   \n",
              "4  .The ending portion of these Vedas is called U...   \n",
              "\n",
              "                                          hindi_sent  \n",
              "0  राजनीतिज्ञों के पास जो कार्य करना चाहिए, वह कर...  \n",
              "1  मई आपको ऐसे ही एक बच्चे के बारे में बताना चाहू...  \n",
              "2   यह प्रतिशत भारत में हिन्दुओं प्रतिशत से अधिक है।  \n",
              "3     हम ये नहीं कहना चाहते कि वो ध्यान नहीं दे पाते  \n",
              "4        इन्हीं वेदों का अंतिम भाग उपनिषद कहलाता है।  "
            ]
          },
          "execution_count": 6,
          "metadata": {},
          "output_type": "execute_result"
        }
      ],
      "source": [
        "df = pd.read_csv(\"../input/english-to-hindi-text-corpus/Hindi_English_Truncated_Corpus.csv\")\n",
        "df.drop([\"source\"], axis=1, inplace = True)\n",
        "df.dropna(axis = 0, inplace = True)\n",
        "df.rename(columns = {\"english_sentence\" : \"english_sent\", \"hindi_sentence\" : \"hindi_sent\"}, inplace = True)\n",
        "df.head()"
      ]
    },
    {
      "cell_type": "code",
      "execution_count": null,
      "id": "fb3d519a",
      "metadata": {
        "execution": {
          "iopub.execute_input": "2021-12-18T08:31:52.341534Z",
          "iopub.status.busy": "2021-12-18T08:31:52.336509Z",
          "iopub.status.idle": "2021-12-18T08:32:00.462632Z",
          "shell.execute_reply": "2021-12-18T08:32:00.462149Z",
          "shell.execute_reply.started": "2021-12-18T06:32:22.020983Z"
        },
        "papermill": {
          "duration": 8.186263,
          "end_time": "2021-12-18T08:32:00.462767",
          "exception": false,
          "start_time": "2021-12-18T08:31:52.276504",
          "status": "completed"
        },
        "tags": [],
        "id": "fb3d519a"
      },
      "outputs": [],
      "source": [
        "# Preprocess text\n",
        "preprocess_text(df)\n",
        "\n",
        "# Drop rows with Null values\n",
        "df.drop(df[df[\"english_sent\"] == \" \"].index, inplace = True)\n",
        "df.drop(df[df[\"hindi_sent\"] == \"[start]  [end]\"].index, inplace = True)"
      ]
    },
    {
      "cell_type": "code",
      "execution_count": null,
      "id": "467a9105",
      "metadata": {
        "execution": {
          "iopub.execute_input": "2021-12-18T08:32:00.534637Z",
          "iopub.status.busy": "2021-12-18T08:32:00.533863Z",
          "iopub.status.idle": "2021-12-18T08:32:00.929037Z",
          "shell.execute_reply": "2021-12-18T08:32:00.928567Z",
          "shell.execute_reply.started": "2021-12-18T06:32:29.576578Z"
        },
        "papermill": {
          "duration": 0.433292,
          "end_time": "2021-12-18T08:32:00.929179",
          "exception": false,
          "start_time": "2021-12-18T08:32:00.495887",
          "status": "completed"
        },
        "tags": [],
        "id": "467a9105"
      },
      "outputs": [],
      "source": [
        "# Find Sentence Length\n",
        "df[\"eng_sent_length\"] = df[\"english_sent\"].apply(lambda x : len(x.split(' ')))\n",
        "df[\"hindi_sent_length\"] = df[\"hindi_sent\"].apply(lambda x : len(x.split(' ')))"
      ]
    },
    {
      "cell_type": "code",
      "execution_count": null,
      "id": "f879df77",
      "metadata": {
        "execution": {
          "iopub.execute_input": "2021-12-18T08:32:00.999398Z",
          "iopub.status.busy": "2021-12-18T08:32:00.998522Z",
          "iopub.status.idle": "2021-12-18T08:32:01.027852Z",
          "shell.execute_reply": "2021-12-18T08:32:01.028414Z",
          "shell.execute_reply.started": "2021-12-18T06:32:30.001325Z"
        },
        "papermill": {
          "duration": 0.067348,
          "end_time": "2021-12-18T08:32:01.028571",
          "exception": false,
          "start_time": "2021-12-18T08:32:00.961223",
          "status": "completed"
        },
        "tags": [],
        "id": "f879df77"
      },
      "outputs": [],
      "source": [
        "# Get sentences with specific length 20\n",
        "df = df[df[\"eng_sent_length\"] <= 20]\n",
        "df = df[df[\"hindi_sent_length\"] <= 20]\n",
        "\n",
        "# Take 85K records for training\n",
        "df = df.sample(n = 85000, random_state = 2048)\n",
        "df = df.reset_index(drop = True)\n",
        "\n",
        "# Defining train, valid, test\n",
        "train = df.iloc[:80000]\n",
        "val = df.iloc[80000:84500]\n",
        "test = df.iloc[84500:]"
      ]
    },
    {
      "cell_type": "markdown",
      "id": "31e79ba7",
      "metadata": {
        "papermill": {
          "duration": 0.031618,
          "end_time": "2021-12-18T08:32:01.092087",
          "exception": false,
          "start_time": "2021-12-18T08:32:01.060469",
          "status": "completed"
        },
        "tags": [],
        "id": "31e79ba7"
      },
      "source": [
        "## Tokenizing Sentences\n"
      ]
    },
    {
      "cell_type": "code",
      "execution_count": null,
      "id": "efa31e24",
      "metadata": {
        "execution": {
          "iopub.execute_input": "2021-12-18T08:32:01.162107Z",
          "iopub.status.busy": "2021-12-18T08:32:01.161480Z",
          "iopub.status.idle": "2021-12-18T08:32:13.625712Z",
          "shell.execute_reply": "2021-12-18T08:32:13.625197Z",
          "shell.execute_reply.started": "2021-12-18T06:19:21.213257Z"
        },
        "papermill": {
          "duration": 12.502348,
          "end_time": "2021-12-18T08:32:13.625874",
          "exception": false,
          "start_time": "2021-12-18T08:32:01.123526",
          "status": "completed"
        },
        "tags": [],
        "id": "efa31e24",
        "outputId": "395a76df-b4f1-48ed-b93a-34a1422a0c65"
      },
      "outputs": [
        {
          "name": "stderr",
          "output_type": "stream",
          "text": [
            "2021-12-18 08:32:01.231468: I tensorflow/stream_executor/cuda/cuda_gpu_executor.cc:937] successful NUMA node read from SysFS had negative value (-1), but there must be at least one NUMA node, so returning NUMA node zero\n",
            "2021-12-18 08:32:01.315671: I tensorflow/stream_executor/cuda/cuda_gpu_executor.cc:937] successful NUMA node read from SysFS had negative value (-1), but there must be at least one NUMA node, so returning NUMA node zero\n",
            "2021-12-18 08:32:01.316413: I tensorflow/stream_executor/cuda/cuda_gpu_executor.cc:937] successful NUMA node read from SysFS had negative value (-1), but there must be at least one NUMA node, so returning NUMA node zero\n",
            "2021-12-18 08:32:01.317529: I tensorflow/core/platform/cpu_feature_guard.cc:142] This TensorFlow binary is optimized with oneAPI Deep Neural Network Library (oneDNN) to use the following CPU instructions in performance-critical operations:  AVX2 AVX512F FMA\n",
            "To enable them in other operations, rebuild TensorFlow with the appropriate compiler flags.\n",
            "2021-12-18 08:32:01.318340: I tensorflow/stream_executor/cuda/cuda_gpu_executor.cc:937] successful NUMA node read from SysFS had negative value (-1), but there must be at least one NUMA node, so returning NUMA node zero\n",
            "2021-12-18 08:32:01.319010: I tensorflow/stream_executor/cuda/cuda_gpu_executor.cc:937] successful NUMA node read from SysFS had negative value (-1), but there must be at least one NUMA node, so returning NUMA node zero\n",
            "2021-12-18 08:32:01.319650: I tensorflow/stream_executor/cuda/cuda_gpu_executor.cc:937] successful NUMA node read from SysFS had negative value (-1), but there must be at least one NUMA node, so returning NUMA node zero\n",
            "2021-12-18 08:32:02.786761: I tensorflow/stream_executor/cuda/cuda_gpu_executor.cc:937] successful NUMA node read from SysFS had negative value (-1), but there must be at least one NUMA node, so returning NUMA node zero\n",
            "2021-12-18 08:32:02.787636: I tensorflow/stream_executor/cuda/cuda_gpu_executor.cc:937] successful NUMA node read from SysFS had negative value (-1), but there must be at least one NUMA node, so returning NUMA node zero\n",
            "2021-12-18 08:32:02.788322: I tensorflow/stream_executor/cuda/cuda_gpu_executor.cc:937] successful NUMA node read from SysFS had negative value (-1), but there must be at least one NUMA node, so returning NUMA node zero\n",
            "2021-12-18 08:32:02.788920: I tensorflow/core/common_runtime/gpu/gpu_device.cc:1510] Created device /job:localhost/replica:0/task:0/device:GPU:0 with 15403 MB memory:  -> device: 0, name: Tesla P100-PCIE-16GB, pci bus id: 0000:00:04.0, compute capability: 6.0\n",
            "2021-12-18 08:32:03.183343: I tensorflow/compiler/mlir/mlir_graph_optimization_pass.cc:185] None of the MLIR Optimization Passes are enabled (registered 2)\n"
          ]
        }
      ],
      "source": [
        "# Using TextVectorization to create sentence vectors\n",
        "strip_chars = string.punctuation + \"¿\"\n",
        "strip_chars = strip_chars.replace(\"[\", \"\")\n",
        "strip_chars = strip_chars.replace(\"]\", \"\")\n",
        "\n",
        "\n",
        "def custom_standardization(input_string):\n",
        "    lowercase = tf.strings.lower(input_string)\n",
        "    return tf.strings.regex_replace(lowercase, \"[%s]\" % re.escape(strip_chars), \"\")\n",
        "\n",
        "eng_vectorization = TextVectorization(\n",
        "    max_tokens = vocab_size, output_mode = \"int\", output_sequence_length = sequence_length\n",
        "    )\n",
        "\n",
        "hindi_vectorization = TextVectorization(\n",
        "    max_tokens = vocab_size, output_mode = \"int\", output_sequence_length = sequence_length + 1, standardize=custom_standardization\n",
        ")\n",
        "\n",
        "eng_vectorization.adapt(df[\"english_sent\"].values)\n",
        "hindi_vectorization.adapt(df[\"hindi_sent\"].values)"
      ]
    },
    {
      "cell_type": "code",
      "execution_count": null,
      "id": "a14f72bc",
      "metadata": {
        "execution": {
          "iopub.execute_input": "2021-12-18T08:32:13.697562Z",
          "iopub.status.busy": "2021-12-18T08:32:13.696827Z",
          "iopub.status.idle": "2021-12-18T08:32:13.828784Z",
          "shell.execute_reply": "2021-12-18T08:32:13.827856Z",
          "shell.execute_reply.started": "2021-12-17T14:10:22.809409Z"
        },
        "papermill": {
          "duration": 0.169665,
          "end_time": "2021-12-18T08:32:13.828917",
          "exception": false,
          "start_time": "2021-12-18T08:32:13.659252",
          "status": "completed"
        },
        "tags": [],
        "id": "a14f72bc"
      },
      "outputs": [],
      "source": [
        "# Savng parameters and weights of both vectorizer\n",
        "pickle.dump({'config': eng_vectorization.get_config(),\n",
        "             'weights': eng_vectorization.get_weights()}\n",
        "            , open(\"eng_vectorizer.pkl\", \"wb\"))\n",
        "\n",
        "pickle.dump({'config': hindi_vectorization.get_config(),\n",
        "             'weights': hindi_vectorization.get_weights()}\n",
        "            , open(\"hindi_vectorizer.pkl\", \"wb\"))"
      ]
    },
    {
      "cell_type": "markdown",
      "id": "66e3e74b",
      "metadata": {
        "papermill": {
          "duration": 0.03157,
          "end_time": "2021-12-18T08:32:13.892731",
          "exception": false,
          "start_time": "2021-12-18T08:32:13.861161",
          "status": "completed"
        },
        "tags": [],
        "id": "66e3e74b"
      },
      "source": [
        "## Creating Dataset\n"
      ]
    },
    {
      "cell_type": "code",
      "execution_count": null,
      "id": "9a2798a9",
      "metadata": {
        "execution": {
          "iopub.execute_input": "2021-12-18T08:32:13.998145Z",
          "iopub.status.busy": "2021-12-18T08:32:13.997570Z",
          "iopub.status.idle": "2021-12-18T08:32:14.159632Z",
          "shell.execute_reply": "2021-12-18T08:32:14.159173Z",
          "shell.execute_reply.started": "2021-12-18T06:19:33.990673Z"
        },
        "papermill": {
          "duration": 0.235409,
          "end_time": "2021-12-18T08:32:14.159758",
          "exception": false,
          "start_time": "2021-12-18T08:32:13.924349",
          "status": "completed"
        },
        "tags": [],
        "id": "9a2798a9"
      },
      "outputs": [],
      "source": [
        "train_ds = make_dataset(train)\n",
        "val_ds = make_dataset(val)"
      ]
    },
    {
      "cell_type": "markdown",
      "id": "3c03dce2",
      "metadata": {
        "papermill": {
          "duration": 0.031524,
          "end_time": "2021-12-18T08:32:14.223416",
          "exception": false,
          "start_time": "2021-12-18T08:32:14.191892",
          "status": "completed"
        },
        "tags": [],
        "id": "3c03dce2"
      },
      "source": [
        "## Creating Model"
      ]
    },
    {
      "cell_type": "code",
      "execution_count": null,
      "id": "1283538c",
      "metadata": {
        "execution": {
          "iopub.execute_input": "2021-12-18T08:32:14.294807Z",
          "iopub.status.busy": "2021-12-18T08:32:14.294056Z",
          "iopub.status.idle": "2021-12-18T08:32:14.296548Z",
          "shell.execute_reply": "2021-12-18T08:32:14.296130Z",
          "shell.execute_reply.started": "2021-12-18T06:19:34.197664Z"
        },
        "papermill": {
          "duration": 0.041496,
          "end_time": "2021-12-18T08:32:14.296661",
          "exception": false,
          "start_time": "2021-12-18T08:32:14.255165",
          "status": "completed"
        },
        "tags": [],
        "id": "1283538c"
      },
      "outputs": [],
      "source": [
        "class PositionalEmbedding(layers.Layer):\n",
        "    def __init__(self, sequence_len, vocab_size, embed_dim, **kwargs):\n",
        "        super(PositionalEmbedding, self).__init__(**kwargs)\n",
        "        self.sequence_len = sequence_len\n",
        "        self.vocab_size = vocab_size\n",
        "        self.embed_dim = embed_dim\n",
        "        self.token_embedding = layers.Embedding(\n",
        "            input_dim = vocab_size, output_dim = embed_dim\n",
        "        )\n",
        "        self.position_embedding = layers.Embedding(\n",
        "            input_dim = sequence_len, output_dim = embed_dim\n",
        "        )\n",
        "\n",
        "    def call(self, inputs):\n",
        "        length = tf.shape(inputs)[-1]\n",
        "        positions = tf.range(start = 0, limit = length, delta = 1)\n",
        "        embedded_tokens = self.token_embedding(inputs)\n",
        "        embedded_positions = self.position_embedding(positions)\n",
        "        return embedded_tokens + embedded_positions\n",
        "\n",
        "    def compute_mask(self, inputs, mask=None):\n",
        "        return tf.math.not_equal(inputs, 0)"
      ]
    },
    {
      "cell_type": "code",
      "execution_count": null,
      "id": "38c40aa2",
      "metadata": {
        "execution": {
          "iopub.execute_input": "2021-12-18T08:32:14.370103Z",
          "iopub.status.busy": "2021-12-18T08:32:14.368504Z",
          "iopub.status.idle": "2021-12-18T08:32:14.370703Z",
          "shell.execute_reply": "2021-12-18T08:32:14.371121Z",
          "shell.execute_reply.started": "2021-12-18T06:20:27.300237Z"
        },
        "papermill": {
          "duration": 0.043364,
          "end_time": "2021-12-18T08:32:14.371254",
          "exception": false,
          "start_time": "2021-12-18T08:32:14.327890",
          "status": "completed"
        },
        "tags": [],
        "id": "38c40aa2"
      },
      "outputs": [],
      "source": [
        "class TransformerEncoder(layers.Layer):\n",
        "    def __init__(self, embed_dim, latent_dim, num_heads, dropout,**kwargs):\n",
        "        super(TransformerEncoder, self).__init__(**kwargs)\n",
        "        self.embed_dim = embed_dim\n",
        "        self.latent_dim = latent_dim\n",
        "        self.num_heads = num_heads\n",
        "        self.dropout = dropout\n",
        "        self.attention = layers.MultiHeadAttention(\n",
        "            num_heads = num_heads, key_dim = embed_dim\n",
        "        )\n",
        "        self.layer_norm1 = layers.LayerNormalization()\n",
        "        self.layer_norm2 = layers.LayerNormalization()\n",
        "        self.layer_ffn = keras.Sequential(\n",
        "            [layers.Dense(latent_dim, activation=\"relu\"), \n",
        "             layers.Dropout(dropout),\n",
        "             layers.Dense(embed_dim),]\n",
        "            )\n",
        "        self.supports_masking = True\n",
        "    \n",
        "    def call(self, inputs, mask = None):\n",
        "        if mask is not None:\n",
        "            padding_mask = tf.cast(mask[:, tf.newaxis, tf.newaxis, :], dtype=\"int32\")\n",
        "\n",
        "        attention_output = self.attention(\n",
        "            query = inputs, value = inputs, key = inputs, attention_mask = padding_mask\n",
        "        )\n",
        "        ffn_input = self.layer_norm1(inputs + attention_output)\n",
        "        ffn_output = self.layer_ffn(ffn_input)\n",
        "        return self.layer_norm2(ffn_input + ffn_output)"
      ]
    },
    {
      "cell_type": "markdown",
      "id": "a9ea080e",
      "metadata": {
        "papermill": {
          "duration": 0.031973,
          "end_time": "2021-12-18T08:32:14.434968",
          "exception": false,
          "start_time": "2021-12-18T08:32:14.402995",
          "status": "completed"
        },
        "tags": [],
        "id": "a9ea080e"
      },
      "source": [
        "![Encoder Block.png](attachment:bc3e9ff0-517e-48cf-b36a-5a556a7da230.png)"
      ]
    },
    {
      "cell_type": "code",
      "execution_count": null,
      "id": "ce1b59e2",
      "metadata": {
        "execution": {
          "iopub.execute_input": "2021-12-18T08:32:14.512596Z",
          "iopub.status.busy": "2021-12-18T08:32:14.505015Z",
          "iopub.status.idle": "2021-12-18T08:32:14.514830Z",
          "shell.execute_reply": "2021-12-18T08:32:14.514415Z",
          "shell.execute_reply.started": "2021-12-18T06:20:29.366764Z"
        },
        "papermill": {
          "duration": 0.048471,
          "end_time": "2021-12-18T08:32:14.514943",
          "exception": false,
          "start_time": "2021-12-18T08:32:14.466472",
          "status": "completed"
        },
        "tags": [],
        "id": "ce1b59e2"
      },
      "outputs": [],
      "source": [
        "class TransformerDecoder(layers.Layer):\n",
        "    def __init__(self, embed_dim, latent_dim, num_heads, sropout,**kwargs):\n",
        "        super(TransformerDecoder, self).__init__(**kwargs)\n",
        "        self.embed_dim = embed_dim\n",
        "        self.latent_dim = latent_dim\n",
        "        self.num_heads = num_heads\n",
        "        self.dropout = dropout\n",
        "        self.attention1 = layers.MultiHeadAttention(\n",
        "            num_heads = num_heads, key_dim = embed_dim\n",
        "        )\n",
        "        self.attention2 = layers.MultiHeadAttention(\n",
        "            num_heads = num_heads, key_dim = embed_dim\n",
        "        )\n",
        "        self.layer_ffn = keras.Sequential(\n",
        "            [layers.Dense(latent_dim, activation=\"relu\"),\n",
        "             layers.Dropout(dropout),\n",
        "             layers.Dense(embed_dim),]\n",
        "        )\n",
        "        self.layer_norm1 = layers.LayerNormalization()\n",
        "        self.layer_norm2 = layers.LayerNormalization()\n",
        "        self.layer_norm3 = layers.LayerNormalization()\n",
        "\n",
        "        self.supports_masking = True\n",
        "    \n",
        "    def call(self, inputs, encoder_outputs, mask = None):\n",
        "        causal_mask = self.get_causal_attention_mask(inputs)\n",
        "        if mask is not None:\n",
        "            padding_mask = tf.cast(mask[:, tf.newaxis, :], dtype=\"int32\")\n",
        "            padding_mask = tf.minimum(padding_mask, causal_mask)\n",
        "        \n",
        "        attention_output1 = self.attention1(\n",
        "            query=inputs, value=inputs, key=inputs, attention_mask=causal_mask \n",
        "        )\n",
        "        out1 = self.layer_norm1(inputs + attention_output1)\n",
        "\n",
        "        attention_output2 = self.attention2(\n",
        "            query = out1, value = encoder_outputs, key = encoder_outputs, attention_mask = padding_mask\n",
        "        )\n",
        "        out2 = self.layer_norm2(out1 + attention_output2)\n",
        "\n",
        "        ffn_output = self.layer_ffn(out2)\n",
        "        return self.layer_norm3(out2 + ffn_output)\n",
        "\n",
        "    def get_causal_attention_mask(self, inputs):\n",
        "        input_shape = tf.shape(inputs)\n",
        "        batch_size, sequence_length = input_shape[0], input_shape[1]\n",
        "        i = tf.range(sequence_length)[:, tf.newaxis]\n",
        "        j = tf.range(sequence_length)\n",
        "        mask = tf.cast(i >= j, dtype=\"int32\")\n",
        "        mask = tf.reshape(mask, (1, input_shape[1], input_shape[1]))\n",
        "        mult = tf.concat(\n",
        "            [tf.expand_dims(batch_size, -1), tf.constant([1, 1], dtype=tf.int32)],\n",
        "            axis=0,\n",
        "        )\n",
        "        return tf.tile(mask, mult)"
      ]
    },
    {
      "cell_type": "markdown",
      "id": "6b3d3555",
      "metadata": {
        "papermill": {
          "duration": 0.03187,
          "end_time": "2021-12-18T08:32:14.578507",
          "exception": false,
          "start_time": "2021-12-18T08:32:14.546637",
          "status": "completed"
        },
        "tags": [],
        "id": "6b3d3555"
      },
      "source": [
        "![Decoder Block.png](attachment:51ec667e-a632-41ad-92e8-481ea3a76f21.png)"
      ]
    },
    {
      "cell_type": "code",
      "execution_count": null,
      "id": "3a0b32d3",
      "metadata": {
        "execution": {
          "iopub.execute_input": "2021-12-18T08:32:14.656662Z",
          "iopub.status.busy": "2021-12-18T08:32:14.651259Z",
          "iopub.status.idle": "2021-12-18T08:32:15.670423Z",
          "shell.execute_reply": "2021-12-18T08:32:15.669921Z",
          "shell.execute_reply.started": "2021-12-18T06:20:33.159747Z"
        },
        "papermill": {
          "duration": 1.059772,
          "end_time": "2021-12-18T08:32:15.670554",
          "exception": false,
          "start_time": "2021-12-18T08:32:14.610782",
          "status": "completed"
        },
        "tags": [],
        "id": "3a0b32d3"
      },
      "outputs": [],
      "source": [
        "encoder_inputs = keras.Input(shape=(None,), dtype=\"int64\", name=\"encoder_inputs\")\n",
        "x = PositionalEmbedding(sequence_length, vocab_size, embed_dim)(encoder_inputs)\n",
        "encoder_outputs = TransformerEncoder(embed_dim, latent_dim, num_heads, dropout,name=\"encoder_1\")(x)\n",
        "encoder = keras.Model(encoder_inputs, encoder_outputs)\n",
        "\n",
        "decoder_inputs = keras.Input(shape=(None,), dtype=\"int64\", name=\"decoder_inputs\")\n",
        "encoded_seq_inputs = keras.Input(shape=(None, embed_dim), name=\"decoder_state_inputs\")\n",
        "x = PositionalEmbedding(sequence_length, vocab_size, embed_dim)(decoder_inputs)\n",
        "x = TransformerDecoder(embed_dim, latent_dim, num_heads, dropout,name=\"decoder_1\")(x, encoded_seq_inputs)\n",
        "x = layers.Dropout(0.4)(x)\n",
        "decoder_outputs = layers.Dense(vocab_size, activation=\"softmax\")(x)\n",
        "decoder = keras.Model([decoder_inputs, encoded_seq_inputs], decoder_outputs)\n",
        "\n",
        "decoder_outputs = decoder([decoder_inputs, encoder_outputs])\n",
        "transformer = keras.Model(\n",
        "    [encoder_inputs, decoder_inputs], decoder_outputs, name=\"transformer\"\n",
        ")"
      ]
    },
    {
      "cell_type": "markdown",
      "id": "982a5deb",
      "metadata": {
        "papermill": {
          "duration": 0.033083,
          "end_time": "2021-12-18T08:32:15.735891",
          "exception": false,
          "start_time": "2021-12-18T08:32:15.702808",
          "status": "completed"
        },
        "tags": [],
        "id": "982a5deb"
      },
      "source": [
        "![Transformer.png](attachment:a476764c-1f5d-4f53-b6ce-56db78a0a5fd.png)"
      ]
    },
    {
      "cell_type": "code",
      "execution_count": null,
      "id": "e6434582",
      "metadata": {
        "execution": {
          "iopub.execute_input": "2021-12-18T08:32:15.807655Z",
          "iopub.status.busy": "2021-12-18T08:32:15.806858Z",
          "iopub.status.idle": "2021-12-18T08:32:15.816947Z",
          "shell.execute_reply": "2021-12-18T08:32:15.817437Z",
          "shell.execute_reply.started": "2021-12-18T06:20:35.496749Z"
        },
        "papermill": {
          "duration": 0.04801,
          "end_time": "2021-12-18T08:32:15.817603",
          "exception": false,
          "start_time": "2021-12-18T08:32:15.769593",
          "status": "completed"
        },
        "tags": [],
        "id": "e6434582",
        "outputId": "ac78371e-e187-432a-a862-a2a106003370"
      },
      "outputs": [
        {
          "name": "stdout",
          "output_type": "stream",
          "text": [
            "Model: \"transformer\"\n",
            "__________________________________________________________________________________________________\n",
            "Layer (type)                    Output Shape         Param #     Connected to                     \n",
            "==================================================================================================\n",
            "encoder_inputs (InputLayer)     [(None, None)]       0                                            \n",
            "__________________________________________________________________________________________________\n",
            "positional_embedding (Positiona (None, None, 128)    2562560     encoder_inputs[0][0]             \n",
            "__________________________________________________________________________________________________\n",
            "decoder_inputs (InputLayer)     [(None, None)]       0                                            \n",
            "__________________________________________________________________________________________________\n",
            "encoder_1 (TransformerEncoder)  (None, None, 128)    1186304     positional_embedding[0][0]       \n",
            "__________________________________________________________________________________________________\n",
            "model_1 (Functional)            (None, None, 20000)  6988448     decoder_inputs[0][0]             \n",
            "                                                                 encoder_1[0][0]                  \n",
            "==================================================================================================\n",
            "Total params: 10,737,312\n",
            "Trainable params: 10,737,312\n",
            "Non-trainable params: 0\n",
            "__________________________________________________________________________________________________\n"
          ]
        }
      ],
      "source": [
        "transformer.summary()"
      ]
    },
    {
      "cell_type": "markdown",
      "id": "ecb69c56",
      "metadata": {
        "papermill": {
          "duration": 0.03741,
          "end_time": "2021-12-18T08:32:15.892905",
          "exception": false,
          "start_time": "2021-12-18T08:32:15.855495",
          "status": "completed"
        },
        "tags": [],
        "id": "ecb69c56"
      },
      "source": [
        "## Training Model"
      ]
    },
    {
      "cell_type": "code",
      "execution_count": null,
      "id": "c9ff04a3",
      "metadata": {
        "execution": {
          "iopub.execute_input": "2021-12-18T08:32:15.972669Z",
          "iopub.status.busy": "2021-12-18T08:32:15.971858Z",
          "iopub.status.idle": "2021-12-18T08:46:43.589350Z",
          "shell.execute_reply": "2021-12-18T08:46:43.588887Z",
          "shell.execute_reply.started": "2021-12-18T06:21:21.920446Z"
        },
        "papermill": {
          "duration": 867.659994,
          "end_time": "2021-12-18T08:46:43.589482",
          "exception": false,
          "start_time": "2021-12-18T08:32:15.929488",
          "status": "completed"
        },
        "tags": [],
        "id": "c9ff04a3",
        "outputId": "d6e4e572-8d5c-40c4-e190-e62740a4dc86"
      },
      "outputs": [
        {
          "name": "stdout",
          "output_type": "stream",
          "text": [
            "Epoch 1/50\n",
            "   1/1250 [..............................] - ETA: 1:36:33 - loss: 5.3314 - accuracy: 0.0000e+00"
          ]
        },
        {
          "name": "stderr",
          "output_type": "stream",
          "text": [
            "2021-12-18 08:32:20.468230: I tensorflow/stream_executor/cuda/cuda_dnn.cc:369] Loaded cuDNN version 8005\n"
          ]
        },
        {
          "name": "stdout",
          "output_type": "stream",
          "text": [
            "1250/1250 [==============================] - 78s 59ms/step - loss: 2.9369 - accuracy: 0.2729 - val_loss: 2.5078 - val_accuracy: 0.3342\n",
            "Epoch 2/50\n",
            "1250/1250 [==============================] - 73s 58ms/step - loss: 2.3666 - accuracy: 0.3527 - val_loss: 2.2031 - val_accuracy: 0.3831\n",
            "Epoch 3/50\n",
            "1250/1250 [==============================] - 73s 58ms/step - loss: 2.0359 - accuracy: 0.4061 - val_loss: 2.0304 - val_accuracy: 0.4133\n",
            "Epoch 4/50\n",
            "1250/1250 [==============================] - 73s 58ms/step - loss: 1.8031 - accuracy: 0.4492 - val_loss: 1.9274 - val_accuracy: 0.4414\n",
            "Epoch 5/50\n",
            "1250/1250 [==============================] - 73s 58ms/step - loss: 1.6343 - accuracy: 0.4837 - val_loss: 1.8910 - val_accuracy: 0.4568\n",
            "Epoch 6/50\n",
            "1250/1250 [==============================] - 73s 58ms/step - loss: 1.5066 - accuracy: 0.5110 - val_loss: 1.8800 - val_accuracy: 0.4659\n",
            "Epoch 7/50\n",
            "1250/1250 [==============================] - 74s 59ms/step - loss: 1.4055 - accuracy: 0.5330 - val_loss: 1.8910 - val_accuracy: 0.4729\n",
            "Epoch 8/50\n",
            "1250/1250 [==============================] - 73s 58ms/step - loss: 1.3210 - accuracy: 0.5525 - val_loss: 1.9029 - val_accuracy: 0.4753\n",
            "Epoch 9/50\n",
            "1250/1250 [==============================] - 73s 58ms/step - loss: 1.2502 - accuracy: 0.5700 - val_loss: 1.9220 - val_accuracy: 0.4768\n",
            "Epoch 10/50\n",
            "1250/1250 [==============================] - 73s 58ms/step - loss: 1.0605 - accuracy: 0.6223 - val_loss: 1.9332 - val_accuracy: 0.4953\n",
            "Epoch 11/50\n",
            "1250/1250 [==============================] - 73s 58ms/step - loss: 0.9832 - accuracy: 0.6455 - val_loss: 1.9632 - val_accuracy: 0.4959\n"
          ]
        },
        {
          "data": {
            "text/plain": [
              "<keras.callbacks.History at 0x7fcb1bd83390>"
            ]
          },
          "execution_count": 18,
          "metadata": {},
          "output_type": "execute_result"
        }
      ],
      "source": [
        "# Defining callback functions\n",
        "early_stopping = EarlyStopping(patience = 5,restore_best_weights=True)\n",
        "\n",
        "reduce_lr = ReduceLROnPlateau(monitor='val_loss', factor=0.2, patience=3)\n",
        "\n",
        "# Compiling model\n",
        "transformer.compile(\n",
        "    optimizer = \"adam\", \n",
        "    loss=\"sparse_categorical_crossentropy\", \n",
        "    metrics = [\"accuracy\"]\n",
        ")\n",
        "\n",
        "# Training model\n",
        "transformer.fit(train_ds, epochs = 50, validation_data = val_ds, callbacks = [early_stopping, reduce_lr])"
      ]
    },
    {
      "cell_type": "code",
      "execution_count": null,
      "id": "412cd7b2",
      "metadata": {
        "execution": {
          "iopub.execute_input": "2021-12-18T08:46:51.032632Z",
          "iopub.status.busy": "2021-12-18T08:46:51.031783Z",
          "iopub.status.idle": "2021-12-18T08:46:51.119694Z",
          "shell.execute_reply": "2021-12-18T08:46:51.119078Z",
          "shell.execute_reply.started": "2021-12-17T14:10:23.534385Z"
        },
        "papermill": {
          "duration": 3.910213,
          "end_time": "2021-12-18T08:46:51.119826",
          "exception": false,
          "start_time": "2021-12-18T08:46:47.209613",
          "status": "completed"
        },
        "tags": [],
        "id": "412cd7b2"
      },
      "outputs": [],
      "source": [
        "# Saving weights of model\n",
        "transformer.save_weights(\"eng-hin.h5\")"
      ]
    },
    {
      "cell_type": "markdown",
      "id": "82c4a925",
      "metadata": {
        "papermill": {
          "duration": 3.564287,
          "end_time": "2021-12-18T08:46:58.292590",
          "exception": false,
          "start_time": "2021-12-18T08:46:54.728303",
          "status": "completed"
        },
        "tags": [],
        "id": "82c4a925"
      },
      "source": [
        "## Testing Model & Calculating BLEU Score"
      ]
    },
    {
      "cell_type": "code",
      "execution_count": null,
      "id": "5bbae82d",
      "metadata": {
        "execution": {
          "iopub.execute_input": "2021-12-18T08:47:06.310946Z",
          "iopub.status.busy": "2021-12-18T08:47:06.310139Z",
          "iopub.status.idle": "2021-12-18T08:47:06.504807Z",
          "shell.execute_reply": "2021-12-18T08:47:06.505264Z",
          "shell.execute_reply.started": "2021-12-18T06:38:27.219047Z"
        },
        "papermill": {
          "duration": 4.29736,
          "end_time": "2021-12-18T08:47:06.505422",
          "exception": false,
          "start_time": "2021-12-18T08:47:02.208062",
          "status": "completed"
        },
        "tags": [],
        "id": "5bbae82d",
        "outputId": "219659cd-5027-4b1f-b7b6-372f0014406b"
      },
      "outputs": [
        {
          "name": "stdout",
          "output_type": "stream",
          "text": [
            "English Sentence :  how are you\n",
            "Translated Sentence :  आप कैसे हैं \n"
          ]
        }
      ],
      "source": [
        "# Sample for testing\n",
        "eng = \"how are you\"\n",
        "print(\"English Sentence : \",eng)\n",
        "print(\"Translated Sentence : \",decode_sequence(eng))"
      ]
    },
    {
      "cell_type": "code",
      "execution_count": null,
      "id": "ea00a4c2",
      "metadata": {
        "execution": {
          "iopub.execute_input": "2021-12-18T08:47:14.197898Z",
          "iopub.status.busy": "2021-12-18T08:47:14.197084Z",
          "iopub.status.idle": "2021-12-18T08:50:02.202364Z",
          "shell.execute_reply": "2021-12-18T08:50:02.203096Z",
          "shell.execute_reply.started": "2021-12-18T06:32:37.235012Z"
        },
        "papermill": {
          "duration": 172.054797,
          "end_time": "2021-12-18T08:50:02.203315",
          "exception": false,
          "start_time": "2021-12-18T08:47:10.148518",
          "status": "completed"
        },
        "tags": [],
        "id": "ea00a4c2",
        "outputId": "d883fbaf-2183-441e-a02e-bc59853ab44a"
      },
      "outputs": [
        {
          "name": "stdout",
          "output_type": "stream",
          "text": [
            "BLEU score is :  0.24145048632377344\n"
          ]
        }
      ],
      "source": [
        "# Calculating BLEU score for test data\n",
        "eng = test[\"english_sent\"].values\n",
        "original = test[\"hindi_sent\"].values\n",
        "\n",
        "translated = [decode_sequence(sent) for sent in eng]\n",
        "bleu = 0\n",
        "\n",
        "for i in range(test.shape[0]):\n",
        "    bleu += sentence_bleu([original[i].split()], translated[i].split(), weights = (0.5, 0.5))\n",
        "\n",
        "print(\"BLEU score is : \", bleu / test.shape[0])"
      ]
    }
  ],
  "metadata": {
    "kernelspec": {
      "display_name": "Python 3",
      "language": "python",
      "name": "python3"
    },
    "language_info": {
      "codemirror_mode": {
        "name": "ipython",
        "version": 3
      },
      "file_extension": ".py",
      "mimetype": "text/x-python",
      "name": "python",
      "nbconvert_exporter": "python",
      "pygments_lexer": "ipython3",
      "version": "3.7.12"
    },
    "papermill": {
      "default_parameters": {},
      "duration": 1112.092208,
      "end_time": "2021-12-18T08:50:09.185992",
      "environment_variables": {},
      "exception": null,
      "input_path": "__notebook__.ipynb",
      "output_path": "__notebook__.ipynb",
      "parameters": {},
      "start_time": "2021-12-18T08:31:37.093784",
      "version": "2.3.3"
    },
    "colab": {
      "name": "English_To_Hindi_Translation.ipynb",
      "provenance": []
    }
  },
  "nbformat": 4,
  "nbformat_minor": 5
}