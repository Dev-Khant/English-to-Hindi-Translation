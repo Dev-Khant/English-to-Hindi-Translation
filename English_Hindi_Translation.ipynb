{
  "nbformat": 4,
  "nbformat_minor": 0,
  "metadata": {
    "colab": {
      "name": "English - Hindi Translation.ipynb",
      "provenance": [],
      "collapsed_sections": []
    },
    "kernelspec": {
      "name": "python3",
      "display_name": "Python 3"
    },
    "language_info": {
      "name": "python"
    }
  },
  "cells": [
    {
      "cell_type": "markdown",
      "metadata": {
        "id": "caEGnJLhVLIS"
      },
      "source": [
        "# Loading Data and Libraries\n"
      ]
    },
    {
      "cell_type": "code",
      "source": [
        "from google.colab import drive\n",
        "drive._mount('/content/drive')"
      ],
      "metadata": {
        "colab": {
          "base_uri": "https://localhost:8080/"
        },
        "id": "kO5vLCjX381R",
        "outputId": "4c60500e-40c0-4c73-b051-77b800816171"
      },
      "execution_count": 8,
      "outputs": [
        {
          "output_type": "stream",
          "name": "stdout",
          "text": [
            "Mounted at /content/drive\n"
          ]
        }
      ]
    },
    {
      "cell_type": "code",
      "metadata": {
        "colab": {
          "base_uri": "https://localhost:8080/"
        },
        "id": "elTrpJqIk_8g",
        "outputId": "40a42b75-4dc4-48e6-f6b0-b765df378688"
      },
      "source": [
        "! pip install transformers"
      ],
      "execution_count": 9,
      "outputs": [
        {
          "output_type": "stream",
          "name": "stdout",
          "text": [
            "Collecting transformers\n",
            "  Downloading transformers-4.13.0-py3-none-any.whl (3.3 MB)\n",
            "\u001b[?25l\r\u001b[K     |                                | 10 kB 18.5 MB/s eta 0:00:01\r\u001b[K     |▏                               | 20 kB 25.2 MB/s eta 0:00:01\r\u001b[K     |▎                               | 30 kB 30.9 MB/s eta 0:00:01\r\u001b[K     |▍                               | 40 kB 34.0 MB/s eta 0:00:01\r\u001b[K     |▌                               | 51 kB 34.9 MB/s eta 0:00:01\r\u001b[K     |▋                               | 61 kB 37.5 MB/s eta 0:00:01\r\u001b[K     |▊                               | 71 kB 26.1 MB/s eta 0:00:01\r\u001b[K     |▉                               | 81 kB 27.8 MB/s eta 0:00:01\r\u001b[K     |▉                               | 92 kB 27.9 MB/s eta 0:00:01\r\u001b[K     |█                               | 102 kB 29.0 MB/s eta 0:00:01\r\u001b[K     |█                               | 112 kB 29.0 MB/s eta 0:00:01\r\u001b[K     |█▏                              | 122 kB 29.0 MB/s eta 0:00:01\r\u001b[K     |█▎                              | 133 kB 29.0 MB/s eta 0:00:01\r\u001b[K     |█▍                              | 143 kB 29.0 MB/s eta 0:00:01\r\u001b[K     |█▌                              | 153 kB 29.0 MB/s eta 0:00:01\r\u001b[K     |█▋                              | 163 kB 29.0 MB/s eta 0:00:01\r\u001b[K     |█▊                              | 174 kB 29.0 MB/s eta 0:00:01\r\u001b[K     |█▊                              | 184 kB 29.0 MB/s eta 0:00:01\r\u001b[K     |█▉                              | 194 kB 29.0 MB/s eta 0:00:01\r\u001b[K     |██                              | 204 kB 29.0 MB/s eta 0:00:01\r\u001b[K     |██                              | 215 kB 29.0 MB/s eta 0:00:01\r\u001b[K     |██▏                             | 225 kB 29.0 MB/s eta 0:00:01\r\u001b[K     |██▎                             | 235 kB 29.0 MB/s eta 0:00:01\r\u001b[K     |██▍                             | 245 kB 29.0 MB/s eta 0:00:01\r\u001b[K     |██▌                             | 256 kB 29.0 MB/s eta 0:00:01\r\u001b[K     |██▋                             | 266 kB 29.0 MB/s eta 0:00:01\r\u001b[K     |██▋                             | 276 kB 29.0 MB/s eta 0:00:01\r\u001b[K     |██▊                             | 286 kB 29.0 MB/s eta 0:00:01\r\u001b[K     |██▉                             | 296 kB 29.0 MB/s eta 0:00:01\r\u001b[K     |███                             | 307 kB 29.0 MB/s eta 0:00:01\r\u001b[K     |███                             | 317 kB 29.0 MB/s eta 0:00:01\r\u001b[K     |███▏                            | 327 kB 29.0 MB/s eta 0:00:01\r\u001b[K     |███▎                            | 337 kB 29.0 MB/s eta 0:00:01\r\u001b[K     |███▍                            | 348 kB 29.0 MB/s eta 0:00:01\r\u001b[K     |███▌                            | 358 kB 29.0 MB/s eta 0:00:01\r\u001b[K     |███▌                            | 368 kB 29.0 MB/s eta 0:00:01\r\u001b[K     |███▋                            | 378 kB 29.0 MB/s eta 0:00:01\r\u001b[K     |███▊                            | 389 kB 29.0 MB/s eta 0:00:01\r\u001b[K     |███▉                            | 399 kB 29.0 MB/s eta 0:00:01\r\u001b[K     |████                            | 409 kB 29.0 MB/s eta 0:00:01\r\u001b[K     |████                            | 419 kB 29.0 MB/s eta 0:00:01\r\u001b[K     |████▏                           | 430 kB 29.0 MB/s eta 0:00:01\r\u001b[K     |████▎                           | 440 kB 29.0 MB/s eta 0:00:01\r\u001b[K     |████▍                           | 450 kB 29.0 MB/s eta 0:00:01\r\u001b[K     |████▍                           | 460 kB 29.0 MB/s eta 0:00:01\r\u001b[K     |████▌                           | 471 kB 29.0 MB/s eta 0:00:01\r\u001b[K     |████▋                           | 481 kB 29.0 MB/s eta 0:00:01\r\u001b[K     |████▊                           | 491 kB 29.0 MB/s eta 0:00:01\r\u001b[K     |████▉                           | 501 kB 29.0 MB/s eta 0:00:01\r\u001b[K     |█████                           | 512 kB 29.0 MB/s eta 0:00:01\r\u001b[K     |█████                           | 522 kB 29.0 MB/s eta 0:00:01\r\u001b[K     |█████▏                          | 532 kB 29.0 MB/s eta 0:00:01\r\u001b[K     |█████▎                          | 542 kB 29.0 MB/s eta 0:00:01\r\u001b[K     |█████▎                          | 552 kB 29.0 MB/s eta 0:00:01\r\u001b[K     |█████▍                          | 563 kB 29.0 MB/s eta 0:00:01\r\u001b[K     |█████▌                          | 573 kB 29.0 MB/s eta 0:00:01\r\u001b[K     |█████▋                          | 583 kB 29.0 MB/s eta 0:00:01\r\u001b[K     |█████▊                          | 593 kB 29.0 MB/s eta 0:00:01\r\u001b[K     |█████▉                          | 604 kB 29.0 MB/s eta 0:00:01\r\u001b[K     |██████                          | 614 kB 29.0 MB/s eta 0:00:01\r\u001b[K     |██████                          | 624 kB 29.0 MB/s eta 0:00:01\r\u001b[K     |██████▏                         | 634 kB 29.0 MB/s eta 0:00:01\r\u001b[K     |██████▏                         | 645 kB 29.0 MB/s eta 0:00:01\r\u001b[K     |██████▎                         | 655 kB 29.0 MB/s eta 0:00:01\r\u001b[K     |██████▍                         | 665 kB 29.0 MB/s eta 0:00:01\r\u001b[K     |██████▌                         | 675 kB 29.0 MB/s eta 0:00:01\r\u001b[K     |██████▋                         | 686 kB 29.0 MB/s eta 0:00:01\r\u001b[K     |██████▊                         | 696 kB 29.0 MB/s eta 0:00:01\r\u001b[K     |██████▉                         | 706 kB 29.0 MB/s eta 0:00:01\r\u001b[K     |███████                         | 716 kB 29.0 MB/s eta 0:00:01\r\u001b[K     |███████                         | 727 kB 29.0 MB/s eta 0:00:01\r\u001b[K     |███████                         | 737 kB 29.0 MB/s eta 0:00:01\r\u001b[K     |███████▏                        | 747 kB 29.0 MB/s eta 0:00:01\r\u001b[K     |███████▎                        | 757 kB 29.0 MB/s eta 0:00:01\r\u001b[K     |███████▍                        | 768 kB 29.0 MB/s eta 0:00:01\r\u001b[K     |███████▌                        | 778 kB 29.0 MB/s eta 0:00:01\r\u001b[K     |███████▋                        | 788 kB 29.0 MB/s eta 0:00:01\r\u001b[K     |███████▊                        | 798 kB 29.0 MB/s eta 0:00:01\r\u001b[K     |███████▉                        | 808 kB 29.0 MB/s eta 0:00:01\r\u001b[K     |████████                        | 819 kB 29.0 MB/s eta 0:00:01\r\u001b[K     |████████                        | 829 kB 29.0 MB/s eta 0:00:01\r\u001b[K     |████████                        | 839 kB 29.0 MB/s eta 0:00:01\r\u001b[K     |████████▏                       | 849 kB 29.0 MB/s eta 0:00:01\r\u001b[K     |████████▎                       | 860 kB 29.0 MB/s eta 0:00:01\r\u001b[K     |████████▍                       | 870 kB 29.0 MB/s eta 0:00:01\r\u001b[K     |████████▌                       | 880 kB 29.0 MB/s eta 0:00:01\r\u001b[K     |████████▋                       | 890 kB 29.0 MB/s eta 0:00:01\r\u001b[K     |████████▊                       | 901 kB 29.0 MB/s eta 0:00:01\r\u001b[K     |████████▉                       | 911 kB 29.0 MB/s eta 0:00:01\r\u001b[K     |████████▉                       | 921 kB 29.0 MB/s eta 0:00:01\r\u001b[K     |█████████                       | 931 kB 29.0 MB/s eta 0:00:01\r\u001b[K     |█████████                       | 942 kB 29.0 MB/s eta 0:00:01\r\u001b[K     |█████████▏                      | 952 kB 29.0 MB/s eta 0:00:01\r\u001b[K     |█████████▎                      | 962 kB 29.0 MB/s eta 0:00:01\r\u001b[K     |█████████▍                      | 972 kB 29.0 MB/s eta 0:00:01\r\u001b[K     |█████████▌                      | 983 kB 29.0 MB/s eta 0:00:01\r\u001b[K     |█████████▋                      | 993 kB 29.0 MB/s eta 0:00:01\r\u001b[K     |█████████▊                      | 1.0 MB 29.0 MB/s eta 0:00:01\r\u001b[K     |█████████▊                      | 1.0 MB 29.0 MB/s eta 0:00:01\r\u001b[K     |█████████▉                      | 1.0 MB 29.0 MB/s eta 0:00:01\r\u001b[K     |██████████                      | 1.0 MB 29.0 MB/s eta 0:00:01\r\u001b[K     |██████████                      | 1.0 MB 29.0 MB/s eta 0:00:01\r\u001b[K     |██████████▏                     | 1.1 MB 29.0 MB/s eta 0:00:01\r\u001b[K     |██████████▎                     | 1.1 MB 29.0 MB/s eta 0:00:01\r\u001b[K     |██████████▍                     | 1.1 MB 29.0 MB/s eta 0:00:01\r\u001b[K     |██████████▌                     | 1.1 MB 29.0 MB/s eta 0:00:01\r\u001b[K     |██████████▋                     | 1.1 MB 29.0 MB/s eta 0:00:01\r\u001b[K     |██████████▋                     | 1.1 MB 29.0 MB/s eta 0:00:01\r\u001b[K     |██████████▊                     | 1.1 MB 29.0 MB/s eta 0:00:01\r\u001b[K     |██████████▉                     | 1.1 MB 29.0 MB/s eta 0:00:01\r\u001b[K     |███████████                     | 1.1 MB 29.0 MB/s eta 0:00:01\r\u001b[K     |███████████                     | 1.1 MB 29.0 MB/s eta 0:00:01\r\u001b[K     |███████████▏                    | 1.2 MB 29.0 MB/s eta 0:00:01\r\u001b[K     |███████████▎                    | 1.2 MB 29.0 MB/s eta 0:00:01\r\u001b[K     |███████████▍                    | 1.2 MB 29.0 MB/s eta 0:00:01\r\u001b[K     |███████████▌                    | 1.2 MB 29.0 MB/s eta 0:00:01\r\u001b[K     |███████████▌                    | 1.2 MB 29.0 MB/s eta 0:00:01\r\u001b[K     |███████████▋                    | 1.2 MB 29.0 MB/s eta 0:00:01\r\u001b[K     |███████████▊                    | 1.2 MB 29.0 MB/s eta 0:00:01\r\u001b[K     |███████████▉                    | 1.2 MB 29.0 MB/s eta 0:00:01\r\u001b[K     |████████████                    | 1.2 MB 29.0 MB/s eta 0:00:01\r\u001b[K     |████████████                    | 1.2 MB 29.0 MB/s eta 0:00:01\r\u001b[K     |████████████▏                   | 1.3 MB 29.0 MB/s eta 0:00:01\r\u001b[K     |████████████▎                   | 1.3 MB 29.0 MB/s eta 0:00:01\r\u001b[K     |████████████▍                   | 1.3 MB 29.0 MB/s eta 0:00:01\r\u001b[K     |████████████▍                   | 1.3 MB 29.0 MB/s eta 0:00:01\r\u001b[K     |████████████▌                   | 1.3 MB 29.0 MB/s eta 0:00:01\r\u001b[K     |████████████▋                   | 1.3 MB 29.0 MB/s eta 0:00:01\r\u001b[K     |████████████▊                   | 1.3 MB 29.0 MB/s eta 0:00:01\r\u001b[K     |████████████▉                   | 1.3 MB 29.0 MB/s eta 0:00:01\r\u001b[K     |█████████████                   | 1.3 MB 29.0 MB/s eta 0:00:01\r\u001b[K     |█████████████                   | 1.4 MB 29.0 MB/s eta 0:00:01\r\u001b[K     |█████████████▏                  | 1.4 MB 29.0 MB/s eta 0:00:01\r\u001b[K     |█████████████▎                  | 1.4 MB 29.0 MB/s eta 0:00:01\r\u001b[K     |█████████████▎                  | 1.4 MB 29.0 MB/s eta 0:00:01\r\u001b[K     |█████████████▍                  | 1.4 MB 29.0 MB/s eta 0:00:01\r\u001b[K     |█████████████▌                  | 1.4 MB 29.0 MB/s eta 0:00:01\r\u001b[K     |█████████████▋                  | 1.4 MB 29.0 MB/s eta 0:00:01\r\u001b[K     |█████████████▊                  | 1.4 MB 29.0 MB/s eta 0:00:01\r\u001b[K     |█████████████▉                  | 1.4 MB 29.0 MB/s eta 0:00:01\r\u001b[K     |██████████████                  | 1.4 MB 29.0 MB/s eta 0:00:01\r\u001b[K     |██████████████                  | 1.5 MB 29.0 MB/s eta 0:00:01\r\u001b[K     |██████████████▏                 | 1.5 MB 29.0 MB/s eta 0:00:01\r\u001b[K     |██████████████▏                 | 1.5 MB 29.0 MB/s eta 0:00:01\r\u001b[K     |██████████████▎                 | 1.5 MB 29.0 MB/s eta 0:00:01\r\u001b[K     |██████████████▍                 | 1.5 MB 29.0 MB/s eta 0:00:01\r\u001b[K     |██████████████▌                 | 1.5 MB 29.0 MB/s eta 0:00:01\r\u001b[K     |██████████████▋                 | 1.5 MB 29.0 MB/s eta 0:00:01\r\u001b[K     |██████████████▊                 | 1.5 MB 29.0 MB/s eta 0:00:01\r\u001b[K     |██████████████▉                 | 1.5 MB 29.0 MB/s eta 0:00:01\r\u001b[K     |███████████████                 | 1.5 MB 29.0 MB/s eta 0:00:01\r\u001b[K     |███████████████                 | 1.6 MB 29.0 MB/s eta 0:00:01\r\u001b[K     |███████████████                 | 1.6 MB 29.0 MB/s eta 0:00:01\r\u001b[K     |███████████████▏                | 1.6 MB 29.0 MB/s eta 0:00:01\r\u001b[K     |███████████████▎                | 1.6 MB 29.0 MB/s eta 0:00:01\r\u001b[K     |███████████████▍                | 1.6 MB 29.0 MB/s eta 0:00:01\r\u001b[K     |███████████████▌                | 1.6 MB 29.0 MB/s eta 0:00:01\r\u001b[K     |███████████████▋                | 1.6 MB 29.0 MB/s eta 0:00:01\r\u001b[K     |███████████████▊                | 1.6 MB 29.0 MB/s eta 0:00:01\r\u001b[K     |███████████████▉                | 1.6 MB 29.0 MB/s eta 0:00:01\r\u001b[K     |███████████████▉                | 1.6 MB 29.0 MB/s eta 0:00:01\r\u001b[K     |████████████████                | 1.7 MB 29.0 MB/s eta 0:00:01\r\u001b[K     |████████████████                | 1.7 MB 29.0 MB/s eta 0:00:01\r\u001b[K     |████████████████▏               | 1.7 MB 29.0 MB/s eta 0:00:01\r\u001b[K     |████████████████▎               | 1.7 MB 29.0 MB/s eta 0:00:01\r\u001b[K     |████████████████▍               | 1.7 MB 29.0 MB/s eta 0:00:01\r\u001b[K     |████████████████▌               | 1.7 MB 29.0 MB/s eta 0:00:01\r\u001b[K     |████████████████▋               | 1.7 MB 29.0 MB/s eta 0:00:01\r\u001b[K     |████████████████▊               | 1.7 MB 29.0 MB/s eta 0:00:01\r\u001b[K     |████████████████▊               | 1.7 MB 29.0 MB/s eta 0:00:01\r\u001b[K     |████████████████▉               | 1.8 MB 29.0 MB/s eta 0:00:01\r\u001b[K     |█████████████████               | 1.8 MB 29.0 MB/s eta 0:00:01\r\u001b[K     |█████████████████               | 1.8 MB 29.0 MB/s eta 0:00:01\r\u001b[K     |█████████████████▏              | 1.8 MB 29.0 MB/s eta 0:00:01\r\u001b[K     |█████████████████▎              | 1.8 MB 29.0 MB/s eta 0:00:01\r\u001b[K     |█████████████████▍              | 1.8 MB 29.0 MB/s eta 0:00:01\r\u001b[K     |█████████████████▌              | 1.8 MB 29.0 MB/s eta 0:00:01\r\u001b[K     |█████████████████▋              | 1.8 MB 29.0 MB/s eta 0:00:01\r\u001b[K     |█████████████████▋              | 1.8 MB 29.0 MB/s eta 0:00:01\r\u001b[K     |█████████████████▊              | 1.8 MB 29.0 MB/s eta 0:00:01\r\u001b[K     |█████████████████▉              | 1.9 MB 29.0 MB/s eta 0:00:01\r\u001b[K     |██████████████████              | 1.9 MB 29.0 MB/s eta 0:00:01\r\u001b[K     |██████████████████              | 1.9 MB 29.0 MB/s eta 0:00:01\r\u001b[K     |██████████████████▏             | 1.9 MB 29.0 MB/s eta 0:00:01\r\u001b[K     |██████████████████▎             | 1.9 MB 29.0 MB/s eta 0:00:01\r\u001b[K     |██████████████████▍             | 1.9 MB 29.0 MB/s eta 0:00:01\r\u001b[K     |██████████████████▌             | 1.9 MB 29.0 MB/s eta 0:00:01\r\u001b[K     |██████████████████▌             | 1.9 MB 29.0 MB/s eta 0:00:01\r\u001b[K     |██████████████████▋             | 1.9 MB 29.0 MB/s eta 0:00:01\r\u001b[K     |██████████████████▊             | 1.9 MB 29.0 MB/s eta 0:00:01\r\u001b[K     |██████████████████▉             | 2.0 MB 29.0 MB/s eta 0:00:01\r\u001b[K     |███████████████████             | 2.0 MB 29.0 MB/s eta 0:00:01\r\u001b[K     |███████████████████             | 2.0 MB 29.0 MB/s eta 0:00:01\r\u001b[K     |███████████████████▏            | 2.0 MB 29.0 MB/s eta 0:00:01\r\u001b[K     |███████████████████▎            | 2.0 MB 29.0 MB/s eta 0:00:01\r\u001b[K     |███████████████████▍            | 2.0 MB 29.0 MB/s eta 0:00:01\r\u001b[K     |███████████████████▍            | 2.0 MB 29.0 MB/s eta 0:00:01\r\u001b[K     |███████████████████▌            | 2.0 MB 29.0 MB/s eta 0:00:01\r\u001b[K     |███████████████████▋            | 2.0 MB 29.0 MB/s eta 0:00:01\r\u001b[K     |███████████████████▊            | 2.0 MB 29.0 MB/s eta 0:00:01\r\u001b[K     |███████████████████▉            | 2.1 MB 29.0 MB/s eta 0:00:01\r\u001b[K     |████████████████████            | 2.1 MB 29.0 MB/s eta 0:00:01\r\u001b[K     |████████████████████            | 2.1 MB 29.0 MB/s eta 0:00:01\r\u001b[K     |████████████████████▏           | 2.1 MB 29.0 MB/s eta 0:00:01\r\u001b[K     |████████████████████▎           | 2.1 MB 29.0 MB/s eta 0:00:01\r\u001b[K     |████████████████████▎           | 2.1 MB 29.0 MB/s eta 0:00:01\r\u001b[K     |████████████████████▍           | 2.1 MB 29.0 MB/s eta 0:00:01\r\u001b[K     |████████████████████▌           | 2.1 MB 29.0 MB/s eta 0:00:01\r\u001b[K     |████████████████████▋           | 2.1 MB 29.0 MB/s eta 0:00:01\r\u001b[K     |████████████████████▊           | 2.2 MB 29.0 MB/s eta 0:00:01\r\u001b[K     |████████████████████▉           | 2.2 MB 29.0 MB/s eta 0:00:01\r\u001b[K     |█████████████████████           | 2.2 MB 29.0 MB/s eta 0:00:01\r\u001b[K     |█████████████████████           | 2.2 MB 29.0 MB/s eta 0:00:01\r\u001b[K     |█████████████████████▏          | 2.2 MB 29.0 MB/s eta 0:00:01\r\u001b[K     |█████████████████████▏          | 2.2 MB 29.0 MB/s eta 0:00:01\r\u001b[K     |█████████████████████▎          | 2.2 MB 29.0 MB/s eta 0:00:01\r\u001b[K     |█████████████████████▍          | 2.2 MB 29.0 MB/s eta 0:00:01\r\u001b[K     |█████████████████████▌          | 2.2 MB 29.0 MB/s eta 0:00:01\r\u001b[K     |█████████████████████▋          | 2.2 MB 29.0 MB/s eta 0:00:01\r\u001b[K     |█████████████████████▊          | 2.3 MB 29.0 MB/s eta 0:00:01\r\u001b[K     |█████████████████████▉          | 2.3 MB 29.0 MB/s eta 0:00:01\r\u001b[K     |██████████████████████          | 2.3 MB 29.0 MB/s eta 0:00:01\r\u001b[K     |██████████████████████          | 2.3 MB 29.0 MB/s eta 0:00:01\r\u001b[K     |██████████████████████          | 2.3 MB 29.0 MB/s eta 0:00:01\r\u001b[K     |██████████████████████▏         | 2.3 MB 29.0 MB/s eta 0:00:01\r\u001b[K     |██████████████████████▎         | 2.3 MB 29.0 MB/s eta 0:00:01\r\u001b[K     |██████████████████████▍         | 2.3 MB 29.0 MB/s eta 0:00:01\r\u001b[K     |██████████████████████▌         | 2.3 MB 29.0 MB/s eta 0:00:01\r\u001b[K     |██████████████████████▋         | 2.3 MB 29.0 MB/s eta 0:00:01\r\u001b[K     |██████████████████████▊         | 2.4 MB 29.0 MB/s eta 0:00:01\r\u001b[K     |██████████████████████▉         | 2.4 MB 29.0 MB/s eta 0:00:01\r\u001b[K     |███████████████████████         | 2.4 MB 29.0 MB/s eta 0:00:01\r\u001b[K     |███████████████████████         | 2.4 MB 29.0 MB/s eta 0:00:01\r\u001b[K     |███████████████████████         | 2.4 MB 29.0 MB/s eta 0:00:01\r\u001b[K     |███████████████████████▏        | 2.4 MB 29.0 MB/s eta 0:00:01\r\u001b[K     |███████████████████████▎        | 2.4 MB 29.0 MB/s eta 0:00:01\r\u001b[K     |███████████████████████▍        | 2.4 MB 29.0 MB/s eta 0:00:01\r\u001b[K     |███████████████████████▌        | 2.4 MB 29.0 MB/s eta 0:00:01\r\u001b[K     |███████████████████████▋        | 2.4 MB 29.0 MB/s eta 0:00:01\r\u001b[K     |███████████████████████▊        | 2.5 MB 29.0 MB/s eta 0:00:01\r\u001b[K     |███████████████████████▉        | 2.5 MB 29.0 MB/s eta 0:00:01\r\u001b[K     |███████████████████████▉        | 2.5 MB 29.0 MB/s eta 0:00:01\r\u001b[K     |████████████████████████        | 2.5 MB 29.0 MB/s eta 0:00:01\r\u001b[K     |████████████████████████        | 2.5 MB 29.0 MB/s eta 0:00:01\r\u001b[K     |████████████████████████▏       | 2.5 MB 29.0 MB/s eta 0:00:01\r\u001b[K     |████████████████████████▎       | 2.5 MB 29.0 MB/s eta 0:00:01\r\u001b[K     |████████████████████████▍       | 2.5 MB 29.0 MB/s eta 0:00:01\r\u001b[K     |████████████████████████▌       | 2.5 MB 29.0 MB/s eta 0:00:01\r\u001b[K     |████████████████████████▋       | 2.5 MB 29.0 MB/s eta 0:00:01\r\u001b[K     |████████████████████████▊       | 2.6 MB 29.0 MB/s eta 0:00:01\r\u001b[K     |████████████████████████▊       | 2.6 MB 29.0 MB/s eta 0:00:01\r\u001b[K     |████████████████████████▉       | 2.6 MB 29.0 MB/s eta 0:00:01\r\u001b[K     |█████████████████████████       | 2.6 MB 29.0 MB/s eta 0:00:01\r\u001b[K     |█████████████████████████       | 2.6 MB 29.0 MB/s eta 0:00:01\r\u001b[K     |█████████████████████████▏      | 2.6 MB 29.0 MB/s eta 0:00:01\r\u001b[K     |█████████████████████████▎      | 2.6 MB 29.0 MB/s eta 0:00:01\r\u001b[K     |█████████████████████████▍      | 2.6 MB 29.0 MB/s eta 0:00:01\r\u001b[K     |█████████████████████████▌      | 2.6 MB 29.0 MB/s eta 0:00:01\r\u001b[K     |█████████████████████████▋      | 2.7 MB 29.0 MB/s eta 0:00:01\r\u001b[K     |█████████████████████████▋      | 2.7 MB 29.0 MB/s eta 0:00:01\r\u001b[K     |█████████████████████████▊      | 2.7 MB 29.0 MB/s eta 0:00:01\r\u001b[K     |█████████████████████████▉      | 2.7 MB 29.0 MB/s eta 0:00:01\r\u001b[K     |██████████████████████████      | 2.7 MB 29.0 MB/s eta 0:00:01\r\u001b[K     |██████████████████████████      | 2.7 MB 29.0 MB/s eta 0:00:01\r\u001b[K     |██████████████████████████▏     | 2.7 MB 29.0 MB/s eta 0:00:01\r\u001b[K     |██████████████████████████▎     | 2.7 MB 29.0 MB/s eta 0:00:01\r\u001b[K     |██████████████████████████▍     | 2.7 MB 29.0 MB/s eta 0:00:01\r\u001b[K     |██████████████████████████▌     | 2.7 MB 29.0 MB/s eta 0:00:01\r\u001b[K     |██████████████████████████▌     | 2.8 MB 29.0 MB/s eta 0:00:01\r\u001b[K     |██████████████████████████▋     | 2.8 MB 29.0 MB/s eta 0:00:01\r\u001b[K     |██████████████████████████▊     | 2.8 MB 29.0 MB/s eta 0:00:01\r\u001b[K     |██████████████████████████▉     | 2.8 MB 29.0 MB/s eta 0:00:01\r\u001b[K     |███████████████████████████     | 2.8 MB 29.0 MB/s eta 0:00:01\r\u001b[K     |███████████████████████████     | 2.8 MB 29.0 MB/s eta 0:00:01\r\u001b[K     |███████████████████████████▏    | 2.8 MB 29.0 MB/s eta 0:00:01\r\u001b[K     |███████████████████████████▎    | 2.8 MB 29.0 MB/s eta 0:00:01\r\u001b[K     |███████████████████████████▍    | 2.8 MB 29.0 MB/s eta 0:00:01\r\u001b[K     |███████████████████████████▍    | 2.8 MB 29.0 MB/s eta 0:00:01\r\u001b[K     |███████████████████████████▌    | 2.9 MB 29.0 MB/s eta 0:00:01\r\u001b[K     |███████████████████████████▋    | 2.9 MB 29.0 MB/s eta 0:00:01\r\u001b[K     |███████████████████████████▊    | 2.9 MB 29.0 MB/s eta 0:00:01\r\u001b[K     |███████████████████████████▉    | 2.9 MB 29.0 MB/s eta 0:00:01\r\u001b[K     |████████████████████████████    | 2.9 MB 29.0 MB/s eta 0:00:01\r\u001b[K     |████████████████████████████    | 2.9 MB 29.0 MB/s eta 0:00:01\r\u001b[K     |████████████████████████████▏   | 2.9 MB 29.0 MB/s eta 0:00:01\r\u001b[K     |████████████████████████████▎   | 2.9 MB 29.0 MB/s eta 0:00:01\r\u001b[K     |████████████████████████████▎   | 2.9 MB 29.0 MB/s eta 0:00:01\r\u001b[K     |████████████████████████████▍   | 2.9 MB 29.0 MB/s eta 0:00:01\r\u001b[K     |████████████████████████████▌   | 3.0 MB 29.0 MB/s eta 0:00:01\r\u001b[K     |████████████████████████████▋   | 3.0 MB 29.0 MB/s eta 0:00:01\r\u001b[K     |████████████████████████████▊   | 3.0 MB 29.0 MB/s eta 0:00:01\r\u001b[K     |████████████████████████████▉   | 3.0 MB 29.0 MB/s eta 0:00:01\r\u001b[K     |█████████████████████████████   | 3.0 MB 29.0 MB/s eta 0:00:01\r\u001b[K     |█████████████████████████████   | 3.0 MB 29.0 MB/s eta 0:00:01\r\u001b[K     |█████████████████████████████   | 3.0 MB 29.0 MB/s eta 0:00:01\r\u001b[K     |█████████████████████████████▏  | 3.0 MB 29.0 MB/s eta 0:00:01\r\u001b[K     |█████████████████████████████▎  | 3.0 MB 29.0 MB/s eta 0:00:01\r\u001b[K     |█████████████████████████████▍  | 3.1 MB 29.0 MB/s eta 0:00:01\r\u001b[K     |█████████████████████████████▌  | 3.1 MB 29.0 MB/s eta 0:00:01\r\u001b[K     |█████████████████████████████▋  | 3.1 MB 29.0 MB/s eta 0:00:01\r\u001b[K     |█████████████████████████████▊  | 3.1 MB 29.0 MB/s eta 0:00:01\r\u001b[K     |█████████████████████████████▉  | 3.1 MB 29.0 MB/s eta 0:00:01\r\u001b[K     |██████████████████████████████  | 3.1 MB 29.0 MB/s eta 0:00:01\r\u001b[K     |██████████████████████████████  | 3.1 MB 29.0 MB/s eta 0:00:01\r\u001b[K     |██████████████████████████████  | 3.1 MB 29.0 MB/s eta 0:00:01\r\u001b[K     |██████████████████████████████▏ | 3.1 MB 29.0 MB/s eta 0:00:01\r\u001b[K     |██████████████████████████████▎ | 3.1 MB 29.0 MB/s eta 0:00:01\r\u001b[K     |██████████████████████████████▍ | 3.2 MB 29.0 MB/s eta 0:00:01\r\u001b[K     |██████████████████████████████▌ | 3.2 MB 29.0 MB/s eta 0:00:01\r\u001b[K     |██████████████████████████████▋ | 3.2 MB 29.0 MB/s eta 0:00:01\r\u001b[K     |██████████████████████████████▊ | 3.2 MB 29.0 MB/s eta 0:00:01\r\u001b[K     |██████████████████████████████▉ | 3.2 MB 29.0 MB/s eta 0:00:01\r\u001b[K     |██████████████████████████████▉ | 3.2 MB 29.0 MB/s eta 0:00:01\r\u001b[K     |███████████████████████████████ | 3.2 MB 29.0 MB/s eta 0:00:01\r\u001b[K     |███████████████████████████████ | 3.2 MB 29.0 MB/s eta 0:00:01\r\u001b[K     |███████████████████████████████▏| 3.2 MB 29.0 MB/s eta 0:00:01\r\u001b[K     |███████████████████████████████▎| 3.2 MB 29.0 MB/s eta 0:00:01\r\u001b[K     |███████████████████████████████▍| 3.3 MB 29.0 MB/s eta 0:00:01\r\u001b[K     |███████████████████████████████▌| 3.3 MB 29.0 MB/s eta 0:00:01\r\u001b[K     |███████████████████████████████▋| 3.3 MB 29.0 MB/s eta 0:00:01\r\u001b[K     |███████████████████████████████▊| 3.3 MB 29.0 MB/s eta 0:00:01\r\u001b[K     |███████████████████████████████▊| 3.3 MB 29.0 MB/s eta 0:00:01\r\u001b[K     |███████████████████████████████▉| 3.3 MB 29.0 MB/s eta 0:00:01\r\u001b[K     |████████████████████████████████| 3.3 MB 29.0 MB/s eta 0:00:01\r\u001b[K     |████████████████████████████████| 3.3 MB 29.0 MB/s \n",
            "\u001b[?25hRequirement already satisfied: importlib-metadata in /usr/local/lib/python3.7/dist-packages (from transformers) (4.8.2)\n",
            "Requirement already satisfied: packaging>=20.0 in /usr/local/lib/python3.7/dist-packages (from transformers) (21.3)\n",
            "Requirement already satisfied: regex!=2019.12.17 in /usr/local/lib/python3.7/dist-packages (from transformers) (2019.12.20)\n",
            "Requirement already satisfied: numpy>=1.17 in /usr/local/lib/python3.7/dist-packages (from transformers) (1.19.5)\n",
            "Collecting pyyaml>=5.1\n",
            "  Downloading PyYAML-6.0-cp37-cp37m-manylinux_2_5_x86_64.manylinux1_x86_64.manylinux_2_12_x86_64.manylinux2010_x86_64.whl (596 kB)\n",
            "\u001b[K     |████████████████████████████████| 596 kB 40.7 MB/s \n",
            "\u001b[?25hCollecting sacremoses\n",
            "  Downloading sacremoses-0.0.46-py3-none-any.whl (895 kB)\n",
            "\u001b[K     |████████████████████████████████| 895 kB 34.3 MB/s \n",
            "\u001b[?25hCollecting tokenizers<0.11,>=0.10.1\n",
            "  Downloading tokenizers-0.10.3-cp37-cp37m-manylinux_2_5_x86_64.manylinux1_x86_64.manylinux_2_12_x86_64.manylinux2010_x86_64.whl (3.3 MB)\n",
            "\u001b[K     |████████████████████████████████| 3.3 MB 36.2 MB/s \n",
            "\u001b[?25hRequirement already satisfied: requests in /usr/local/lib/python3.7/dist-packages (from transformers) (2.23.0)\n",
            "Collecting huggingface-hub<1.0,>=0.1.0\n",
            "  Downloading huggingface_hub-0.2.1-py3-none-any.whl (61 kB)\n",
            "\u001b[K     |████████████████████████████████| 61 kB 488 kB/s \n",
            "\u001b[?25hRequirement already satisfied: tqdm>=4.27 in /usr/local/lib/python3.7/dist-packages (from transformers) (4.62.3)\n",
            "Requirement already satisfied: filelock in /usr/local/lib/python3.7/dist-packages (from transformers) (3.4.0)\n",
            "Requirement already satisfied: typing-extensions>=3.7.4.3 in /usr/local/lib/python3.7/dist-packages (from huggingface-hub<1.0,>=0.1.0->transformers) (3.10.0.2)\n",
            "Requirement already satisfied: pyparsing!=3.0.5,>=2.0.2 in /usr/local/lib/python3.7/dist-packages (from packaging>=20.0->transformers) (3.0.6)\n",
            "Requirement already satisfied: zipp>=0.5 in /usr/local/lib/python3.7/dist-packages (from importlib-metadata->transformers) (3.6.0)\n",
            "Requirement already satisfied: certifi>=2017.4.17 in /usr/local/lib/python3.7/dist-packages (from requests->transformers) (2021.10.8)\n",
            "Requirement already satisfied: urllib3!=1.25.0,!=1.25.1,<1.26,>=1.21.1 in /usr/local/lib/python3.7/dist-packages (from requests->transformers) (1.24.3)\n",
            "Requirement already satisfied: idna<3,>=2.5 in /usr/local/lib/python3.7/dist-packages (from requests->transformers) (2.10)\n",
            "Requirement already satisfied: chardet<4,>=3.0.2 in /usr/local/lib/python3.7/dist-packages (from requests->transformers) (3.0.4)\n",
            "Requirement already satisfied: joblib in /usr/local/lib/python3.7/dist-packages (from sacremoses->transformers) (1.1.0)\n",
            "Requirement already satisfied: click in /usr/local/lib/python3.7/dist-packages (from sacremoses->transformers) (7.1.2)\n",
            "Requirement already satisfied: six in /usr/local/lib/python3.7/dist-packages (from sacremoses->transformers) (1.15.0)\n",
            "Installing collected packages: pyyaml, tokenizers, sacremoses, huggingface-hub, transformers\n",
            "  Attempting uninstall: pyyaml\n",
            "    Found existing installation: PyYAML 3.13\n",
            "    Uninstalling PyYAML-3.13:\n",
            "      Successfully uninstalled PyYAML-3.13\n",
            "Successfully installed huggingface-hub-0.2.1 pyyaml-6.0 sacremoses-0.0.46 tokenizers-0.10.3 transformers-4.13.0\n"
          ]
        }
      ]
    },
    {
      "cell_type": "code",
      "metadata": {
        "id": "b0dt-UZG6KWO"
      },
      "source": [
        "!unzip -q /content/drive/MyDrive/parallel.zip"
      ],
      "execution_count": 10,
      "outputs": []
    },
    {
      "cell_type": "code",
      "metadata": {
        "id": "mhPdOu1ngMHX"
      },
      "source": [
        "# Importing libraries\n",
        "import os\n",
        "import pandas as pd\n",
        "import numpy as np\n",
        "import string\n",
        "import re\n",
        "import torch\n",
        "import torch.nn as nn\n",
        "\n",
        "\n",
        "import warnings\n",
        "warnings.filterwarnings(\"ignore\")"
      ],
      "execution_count": 12,
      "outputs": []
    },
    {
      "cell_type": "markdown",
      "source": [
        "# Preprocessing Text"
      ],
      "metadata": {
        "id": "eH2MFMlzIubw"
      }
    },
    {
      "cell_type": "code",
      "metadata": {
        "id": "iMh29rMMgMKy"
      },
      "source": [
        "# Read data \n",
        "df_english = pd.read_csv(\"/content/parallel/English.txt\", sep = 'you_delimiter')\n",
        "df_english.columns = [\"english_sent\"]\n",
        "df_english[\"english_sent\"] = df_english[\"english_sent\"].astype(str)\n",
        "\n",
        "df_hindi = pd.read_csv(\"/content/parallel/Hindi.txt\", sep = 'you_delimiter')\n",
        "df_hindi.columns = [\"hindi_sent\"]\n",
        "df_hindi[\"hindi_sent\"] = df_hindi[\"hindi_sent\"].astype(str)"
      ],
      "execution_count": 201,
      "outputs": []
    },
    {
      "cell_type": "code",
      "source": [
        "# Create main DataFrame\n",
        "df = pd.concat([df_english, df_hindi], axis=1)\n",
        "df.dropna(axis = 0,inplace = True)"
      ],
      "metadata": {
        "id": "XpzbiYuqWnZc"
      },
      "execution_count": 202,
      "outputs": []
    },
    {
      "cell_type": "code",
      "metadata": {
        "id": "rEqUeGP4WffL"
      },
      "source": [
        "def preprocess_text(df):\n",
        "    # Lowercase the characters\n",
        "    df[\"english_sent\"] = df[\"english_sent\"].apply(lambda x : x.lower())\n",
        "    df[\"hindi_sent\"] = df[\"hindi_sent\"].apply(lambda x : x.lower())\n",
        "\n",
        "    # Remove extra spaces\n",
        "    df['english_sent'] = df['english_sent'].apply(lambda x : x.strip())\n",
        "    df['hindi_sent'] = df['hindi_sent'].apply(lambda x : x.strip())\n",
        "\n",
        "    # Rmoving URLs\n",
        "    df[\"english_sent\"] = df[\"english_sent\"].apply(lambda x : re.sub(r'http\\S+', '', x))\n",
        "    df[\"hindi_sent\"] = df[\"hindi_sent\"].apply(lambda x : re.sub(r'http\\S+', '', x))\n",
        "\n",
        "    # Removing digits\n",
        "    remove_digits = str.maketrans(\"\", \"\",string.digits)\n",
        "    df[\"english_sent\"] = df[\"english_sent\"].apply(lambda x : x.translate(remove_digits))\n",
        "    df[\"hindi_sent\"] = df[\"hindi_sent\"].apply(lambda x : x.translate(remove_digits))\n",
        "    df[\"hindi_sent\"] = df[\"hindi_sent\"].apply(lambda x : re.sub(\"[a-zA-z२३०८१५७९४६]\", \"\", x))\n",
        "\n",
        "    # Remove quotes\n",
        "    df['english_sent'] = df['english_sent'].apply(lambda x: re.sub(\"'\", '', x))\n",
        "    df['hindi_sent'] = df['hindi_sent'].apply(lambda x: re.sub(\"'\", '', x))\n",
        "\n",
        "    # Remove special characters\n",
        "    special = set(string.punctuation)\n",
        "    df['english_sent'] = df['english_sent'].apply(lambda x : ''.join(ch for ch in x if ch not in special))\n",
        "    df['hindi_sent'] = df['hindi_sent'].apply(lambda x : ''.join(ch for ch in x if ch not in special))\n",
        "\n",
        "    # Add <start> and <end> tags\n",
        "    df[\"hindi_sent\"] = df[\"hindi_sent\"].apply(lambda x : '<start>' + x + '<end>')"
      ],
      "execution_count": 205,
      "outputs": []
    },
    {
      "cell_type": "code",
      "source": [
        "# Preprocess text\n",
        "preprocess_text(df)\n",
        "\n",
        "# Drop rows with Null values\n",
        "df.drop(df[df[\"english_sent\"] == \" \"].index, inplace = True)\n",
        "df.drop(df[df[\"hindi_sent\"] == \"<start><end>\"].index, inplace = True)"
      ],
      "metadata": {
        "id": "wJuYQV_ebEeR"
      },
      "execution_count": 206,
      "outputs": []
    },
    {
      "cell_type": "code",
      "source": [
        "# Vocabulary for Hindi and English words\n",
        "hindi_words = set()\n",
        "for sent in df[\"hindi_sent\"]:\n",
        "    for word in sent.split():\n",
        "        if word not in hindi_words:\n",
        "            hindi_words.add(word)\n",
        "\n",
        "english_words = set()\n",
        "for sent in df[\"english_sent\"]:\n",
        "    for word in sent.split():\n",
        "        if word not in english_words:\n",
        "            english_words.add(word)"
      ],
      "metadata": {
        "id": "h09ay1elIzVb"
      },
      "execution_count": 224,
      "outputs": []
    },
    {
      "cell_type": "code",
      "source": [
        "# Find Sentence Length\n",
        "df[\"eng_sent_length\"] = df[\"english_sent\"].apply(lambda x : len(x.split(' ')))\n",
        "df[\"hindi_sent_length\"] = df_hindi[\"hindi_sent\"].apply(lambda x : len(x.split(' ')))"
      ],
      "metadata": {
        "id": "Reg_CHR9KfQz"
      },
      "execution_count": 225,
      "outputs": []
    },
    {
      "cell_type": "code",
      "source": [
        "# Get sentences with specific length\n",
        "# 30 for English & 32 for Hindi\n",
        "df = df[df[\"eng_sent_length\"] <= 30]\n",
        "df = df[df[\"hindi_sent_length\"] <= 32]"
      ],
      "metadata": {
        "id": "9oCjlYqjKfTJ"
      },
      "execution_count": 226,
      "outputs": []
    },
    {
      "cell_type": "code",
      "source": [
        "df.shape"
      ],
      "metadata": {
        "colab": {
          "base_uri": "https://localhost:8080/"
        },
        "id": "413qXN_rSlE9",
        "outputId": "c949956e-e736-46e6-db7f-d98f533264bf"
      },
      "execution_count": 229,
      "outputs": [
        {
          "output_type": "execute_result",
          "data": {
            "text/plain": [
              "(1339233, 4)"
            ]
          },
          "metadata": {},
          "execution_count": 229
        }
      ]
    },
    {
      "cell_type": "markdown",
      "metadata": {
        "id": "o-KXJmVSVdtA"
      },
      "source": [
        "# Defining Model"
      ]
    },
    {
      "cell_type": "code",
      "metadata": {
        "id": "QdxXGTNnkFs0"
      },
      "source": [
        "class Transformers(nn.Module):\n",
        "    def __init__(self, \n",
        "                 embedding_size, \n",
        "                 src_vocab_size, \n",
        "                 trg_vocab_size,\n",
        "                 src_pad_idx,\n",
        "                 num_heads,\n",
        "                 num_encoder_layers,\n",
        "                 num_decoder_layers,\n",
        "                 forward_expansion,\n",
        "                 dropout,\n",
        "                 max_len,\n",
        "                 device \n",
        "    ):\n",
        "        super(Transformers, self).__init__()\n",
        "        self.src_word_embedding = nn.Embedding(src_vocab_size, embedding_size)\n",
        "        self.src_position_embedding = nn.Embedding(max_len, embedding_size)\n",
        "        self.trg_word_embedding = nn.Embedding(trg_vocab_size, embedding_size)\n",
        "        self.trg_position_embedding = nn.Embedding(max_len, embedding_size)\n",
        "        self.device = device\n",
        "        self.transformer = nn.Transformer(\n",
        "            embedding_size,\n",
        "            num_heads,\n",
        "            num_encoder_layers,\n",
        "            num_decoder_layers,\n",
        "            forward_expansion,\n",
        "            dropout\n",
        "        )\n",
        "        self.fc_out = nn.Linear(Embedding_size, trg_vocab_size)\n",
        "        self.dropout = nn.Dropout(dropout)\n",
        "        self.src_pad_index = src_pad_index\n",
        "    \n",
        "    def make_src_mask(self, src):\n",
        "        src_make = src.transpose(0, 1) == self.src_pad_index\n",
        "        return src_mask\n",
        "\n",
        "    def forward(self, src, trg):\n",
        "        src_seq_length, N = src.shape\n",
        "        trg_seq_length, N = trg.shape\n",
        "\n",
        "        src_positions = (\n",
        "            torch.arange(0, src_seq_length).unsequeeze(1).expand(src_seq_length, N).to(self.device)\n",
        "        )\n",
        "        trg_positions =(\n",
        "            torch.arange(0, trg_seq_length).unsequeeze(1).expand(trg_seq_length, N).to(self.device)\n",
        "        )\n",
        "\n",
        "        embed_src = self.dropout(\n",
        "            (self.src_word_embedding(src) + self.src_position_embedding(src_postitions))\n",
        "        )\n",
        "        embed_trg = self.dropout(\n",
        "            (self.trg_word_embdedding(trg) + self.trg_postition_embedding(trg_positions))\n",
        "        )\n",
        "         \n",
        "\n",
        "        src_padding_mask = self.make_src_mask(src)\n",
        "        trg_mask = self.transformer.generate_square_subsequent_mask(trg_seq_length).to(self.device)\n",
        "\n",
        "        out = self.transformer(\n",
        "            embed_src,\n",
        "            embed_trg,\n",
        "            src_key_padding_mask = src_padding_mask,\n",
        "            trg_mask = trg_mask \n",
        "        )    \n",
        "        return out "
      ],
      "execution_count": null,
      "outputs": []
    },
    {
      "cell_type": "markdown",
      "metadata": {
        "id": "mkeYBP8UVpMN"
      },
      "source": [
        "# Training Model"
      ]
    },
    {
      "cell_type": "code",
      "metadata": {
        "id": "C1d4XJBVkqA2"
      },
      "source": [
        "# Setup training phase\n",
        "device = torch.device(\"cuda\" if torch.cuda.is_available() else \"cpu\")\n",
        "load_model = False\n",
        "save_model = True\n",
        "\n",
        "# Tranining Hyperparameters\n",
        "num_epochs = 5\n",
        "learning_rate = 3e-4\n",
        "batch_size = 32\n",
        "\n",
        "# Model Hyperparameters\n",
        "src_vocab_size = len(hindi_words)\n",
        "src_vocab_size = len(english)\n",
        "embedding_size = 512\n",
        "num_heads = 8\n",
        "num_encoder_layers = 6\n",
        "num_decoder_layers = 6\n",
        "dropout = 0.10\n",
        "max_length = 100\n",
        "forward_expansion = 4\n",
        "src_pad_idx = english.vocab.stoi[\"<pad>\"]\n",
        "\n"
      ],
      "execution_count": null,
      "outputs": []
    },
    {
      "cell_type": "code",
      "metadata": {
        "id": "uYpvoH_qkp9U"
      },
      "source": [
        ""
      ],
      "execution_count": null,
      "outputs": []
    },
    {
      "cell_type": "code",
      "metadata": {
        "id": "WGL2DjOAYUfq"
      },
      "source": [
        ""
      ],
      "execution_count": null,
      "outputs": []
    },
    {
      "cell_type": "code",
      "metadata": {
        "id": "wp7tAsYYYUjN"
      },
      "source": [
        ""
      ],
      "execution_count": null,
      "outputs": []
    }
  ]
}