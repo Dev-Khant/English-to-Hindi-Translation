{
  "nbformat": 4,
  "nbformat_minor": 0,
  "metadata": {
    "colab": {
      "name": "English - Hindi Translation.ipynb",
      "provenance": [],
      "collapsed_sections": []
    },
    "kernelspec": {
      "name": "python3",
      "display_name": "Python 3"
    },
    "language_info": {
      "name": "python"
    }
  },
  "cells": [
    {
      "cell_type": "markdown",
      "metadata": {
        "id": "caEGnJLhVLIS"
      },
      "source": [
        "# Loading Data and Libraries\n"
      ]
    },
    {
      "cell_type": "code",
      "source": [
        "from google.colab import drive\n",
        "drive._mount('/content/drive')"
      ],
      "metadata": {
        "colab": {
          "base_uri": "https://localhost:8080/"
        },
        "id": "kO5vLCjX381R",
        "outputId": "2e0ce9cb-673b-4f61-c8a3-2a03614af6be"
      },
      "execution_count": 16,
      "outputs": [
        {
          "output_type": "stream",
          "name": "stdout",
          "text": [
            "Mounted at /content/drive\n"
          ]
        }
      ]
    },
    {
      "cell_type": "code",
      "metadata": {
        "colab": {
          "base_uri": "https://localhost:8080/"
        },
        "id": "elTrpJqIk_8g",
        "outputId": "fa2c954c-4883-44b5-a4bb-624998f31381"
      },
      "source": [
        "! pip install transformers"
      ],
      "execution_count": null,
      "outputs": [
        {
          "output_type": "stream",
          "name": "stdout",
          "text": [
            "Requirement already satisfied: transformers in /usr/local/lib/python3.7/dist-packages (4.13.0)\n",
            "Requirement already satisfied: sacremoses in /usr/local/lib/python3.7/dist-packages (from transformers) (0.0.46)\n",
            "Requirement already satisfied: regex!=2019.12.17 in /usr/local/lib/python3.7/dist-packages (from transformers) (2019.12.20)\n",
            "Requirement already satisfied: huggingface-hub<1.0,>=0.1.0 in /usr/local/lib/python3.7/dist-packages (from transformers) (0.2.1)\n",
            "Requirement already satisfied: numpy>=1.17 in /usr/local/lib/python3.7/dist-packages (from transformers) (1.19.5)\n",
            "Requirement already satisfied: pyyaml>=5.1 in /usr/local/lib/python3.7/dist-packages (from transformers) (6.0)\n",
            "Requirement already satisfied: requests in /usr/local/lib/python3.7/dist-packages (from transformers) (2.23.0)\n",
            "Requirement already satisfied: tokenizers<0.11,>=0.10.1 in /usr/local/lib/python3.7/dist-packages (from transformers) (0.10.3)\n",
            "Requirement already satisfied: tqdm>=4.27 in /usr/local/lib/python3.7/dist-packages (from transformers) (4.62.3)\n",
            "Requirement already satisfied: importlib-metadata in /usr/local/lib/python3.7/dist-packages (from transformers) (4.8.2)\n",
            "Requirement already satisfied: filelock in /usr/local/lib/python3.7/dist-packages (from transformers) (3.4.0)\n",
            "Requirement already satisfied: packaging>=20.0 in /usr/local/lib/python3.7/dist-packages (from transformers) (21.3)\n",
            "Requirement already satisfied: typing-extensions>=3.7.4.3 in /usr/local/lib/python3.7/dist-packages (from huggingface-hub<1.0,>=0.1.0->transformers) (3.10.0.2)\n",
            "Requirement already satisfied: pyparsing!=3.0.5,>=2.0.2 in /usr/local/lib/python3.7/dist-packages (from packaging>=20.0->transformers) (3.0.6)\n",
            "Requirement already satisfied: zipp>=0.5 in /usr/local/lib/python3.7/dist-packages (from importlib-metadata->transformers) (3.6.0)\n",
            "Requirement already satisfied: chardet<4,>=3.0.2 in /usr/local/lib/python3.7/dist-packages (from requests->transformers) (3.0.4)\n",
            "Requirement already satisfied: urllib3!=1.25.0,!=1.25.1,<1.26,>=1.21.1 in /usr/local/lib/python3.7/dist-packages (from requests->transformers) (1.24.3)\n",
            "Requirement already satisfied: idna<3,>=2.5 in /usr/local/lib/python3.7/dist-packages (from requests->transformers) (2.10)\n",
            "Requirement already satisfied: certifi>=2017.4.17 in /usr/local/lib/python3.7/dist-packages (from requests->transformers) (2021.10.8)\n",
            "Requirement already satisfied: click in /usr/local/lib/python3.7/dist-packages (from sacremoses->transformers) (7.1.2)\n",
            "Requirement already satisfied: joblib in /usr/local/lib/python3.7/dist-packages (from sacremoses->transformers) (1.1.0)\n",
            "Requirement already satisfied: six in /usr/local/lib/python3.7/dist-packages (from sacremoses->transformers) (1.15.0)\n"
          ]
        }
      ]
    },
    {
      "cell_type": "code",
      "metadata": {
        "id": "b0dt-UZG6KWO"
      },
      "source": [
        "!unzip -q /content/drive/MyDrive/parallel.zip"
      ],
      "execution_count": 18,
      "outputs": []
    },
    {
      "cell_type": "code",
      "metadata": {
        "id": "mhPdOu1ngMHX"
      },
      "source": [
        "# Importing libraries\n",
        "import os\n",
        "import pandas as pd\n",
        "import numpy as np\n",
        "import string\n",
        "import re\n",
        "import torch\n",
        "import torch.nn as nn\n",
        "\n",
        "\n",
        "\n",
        "import warnings\n",
        "warnings.filterwarnings(\"ignore\")"
      ],
      "execution_count": 2,
      "outputs": []
    },
    {
      "cell_type": "markdown",
      "source": [
        "# Preprocessing Text"
      ],
      "metadata": {
        "id": "eH2MFMlzIubw"
      }
    },
    {
      "cell_type": "code",
      "metadata": {
        "id": "iMh29rMMgMKy"
      },
      "source": [
        "# Read data \n",
        "df_english = pd.read_csv(\"/content/parallel/English.txt\", sep = 'you_delimiter')\n",
        "df_english.columns = [\"english_sent\"]\n",
        "df_english[\"english_sent\"] = df_english[\"english_sent\"].astype(str)\n",
        "\n",
        "df_hindi = pd.read_csv(\"/content/parallel/Hindi.txt\", sep = 'you_delimiter')\n",
        "df_hindi.columns = [\"hindi_sent\"]\n",
        "df_hindi[\"hindi_sent\"] = df_hindi[\"hindi_sent\"].astype(str)"
      ],
      "execution_count": 76,
      "outputs": []
    },
    {
      "cell_type": "code",
      "source": [
        "# Create main DataFrame\n",
        "df = pd.concat([df_english, df_hindi], axis=1)\n",
        "df.dropna(axis = 0,inplace = True)"
      ],
      "metadata": {
        "id": "XpzbiYuqWnZc"
      },
      "execution_count": 77,
      "outputs": []
    },
    {
      "cell_type": "code",
      "metadata": {
        "id": "rEqUeGP4WffL"
      },
      "source": [
        "def preprocess_text(df):\n",
        "    # Lowercase the characters\n",
        "    df[\"english_sent\"] = df[\"english_sent\"].apply(lambda x : x.lower())\n",
        "    df[\"hindi_sent\"] = df[\"hindi_sent\"].apply(lambda x : x.lower())\n",
        "\n",
        "    # Remove extra spaces\n",
        "    df['english_sent'] = df['english_sent'].apply(lambda x : x.strip())\n",
        "    df['hindi_sent'] = df['hindi_sent'].apply(lambda x : x.strip())\n",
        "\n",
        "    # Rmoving URLs\n",
        "    df[\"english_sent\"] = df[\"english_sent\"].apply(lambda x : re.sub(r'http\\S+', '', x))\n",
        "    df[\"hindi_sent\"] = df[\"hindi_sent\"].apply(lambda x : re.sub(r'http\\S+', '', x))\n",
        "\n",
        "    # Removing digits\n",
        "    remove_digits = str.maketrans(\"\", \"\",string.digits)\n",
        "    df[\"english_sent\"] = df[\"english_sent\"].apply(lambda x : x.translate(remove_digits))\n",
        "    df[\"hindi_sent\"] = df[\"hindi_sent\"].apply(lambda x : x.translate(remove_digits))\n",
        "    df[\"hindi_sent\"] = df[\"hindi_sent\"].apply(lambda x : re.sub(\"[a-zA-z२३०८१५७९४६]\", \"\", x))\n",
        "\n",
        "    # Remove quotes\n",
        "    df['english_sent'] = df['english_sent'].apply(lambda x: re.sub(\"'\", '', x))\n",
        "    df['hindi_sent'] = df['hindi_sent'].apply(lambda x: re.sub(\"'\", '', x))\n",
        "\n",
        "    # Remove special characters\n",
        "    special = set(string.punctuation)\n",
        "    df['english_sent'] = df['english_sent'].apply(lambda x : ''.join(ch for ch in x if ch not in special))\n",
        "    df['hindi_sent'] = df['hindi_sent'].apply(lambda x : ''.join(ch for ch in x if ch not in special))\n",
        "\n",
        "    # Add <start> and <end> tags\n",
        "    df[\"hindi_sent\"] = df[\"hindi_sent\"].apply(lambda x : '<start>' + x + '<end>')"
      ],
      "execution_count": 78,
      "outputs": []
    },
    {
      "cell_type": "code",
      "source": [
        "# Preprocess text\n",
        "preprocess_text(df)\n",
        "\n",
        "# Drop rows with Null values\n",
        "df.drop(df[df[\"english_sent\"] == \" \"].index, inplace = True)\n",
        "df.drop(df[df[\"hindi_sent\"] == \"<start><end>\"].index, inplace = True)"
      ],
      "metadata": {
        "id": "wJuYQV_ebEeR"
      },
      "execution_count": 79,
      "outputs": []
    },
    {
      "cell_type": "code",
      "source": [
        "# Vocabulary for Hindi and English words\n",
        "hindi_words = set()\n",
        "for sent in df[\"hindi_sent\"]:\n",
        "    for word in sent.split():\n",
        "        if word not in hindi_words:\n",
        "            hindi_words.add(word)\n",
        "\n",
        "english_words = set()\n",
        "for sent in df[\"english_sent\"]:\n",
        "    for word in sent.split():\n",
        "        if word not in english_words:\n",
        "            english_words.add(word)"
      ],
      "metadata": {
        "id": "h09ay1elIzVb"
      },
      "execution_count": 80,
      "outputs": []
    },
    {
      "cell_type": "code",
      "source": [
        "# Find Sentence Length\n",
        "df[\"eng_sent_length\"] = df[\"english_sent\"].apply(lambda x : len(x.split(' ')))\n",
        "df[\"hindi_sent_length\"] = df_hindi[\"hindi_sent\"].apply(lambda x : len(x.split(' ')))"
      ],
      "metadata": {
        "id": "Reg_CHR9KfQz"
      },
      "execution_count": 81,
      "outputs": []
    },
    {
      "cell_type": "code",
      "source": [
        "# Get sentences with specific length\n",
        "# 30 for English & 32 for Hindi\n",
        "df = df[df[\"eng_sent_length\"] <= 30]\n",
        "df = df[df[\"hindi_sent_length\"] <= 32]\n",
        "\n",
        "# Take 1 Million records for training\n",
        "df = df.sample(n = 1000000, random_state = 1)\n",
        "df = df.reset_index(drop = True)"
      ],
      "metadata": {
        "id": "9oCjlYqjKfTJ"
      },
      "execution_count": 82,
      "outputs": []
    },
    {
      "cell_type": "code",
      "source": [
        "df.sample(5)"
      ],
      "metadata": {
        "colab": {
          "base_uri": "https://localhost:8080/",
          "height": 206
        },
        "id": "tVNyB8mvlN7B",
        "outputId": "f8cc5547-3d07-4123-9ce5-1085576d4ff9"
      },
      "execution_count": 87,
      "outputs": [
        {
          "output_type": "execute_result",
          "data": {
            "text/html": [
              "<div>\n",
              "<style scoped>\n",
              "    .dataframe tbody tr th:only-of-type {\n",
              "        vertical-align: middle;\n",
              "    }\n",
              "\n",
              "    .dataframe tbody tr th {\n",
              "        vertical-align: top;\n",
              "    }\n",
              "\n",
              "    .dataframe thead th {\n",
              "        text-align: right;\n",
              "    }\n",
              "</style>\n",
              "<table border=\"1\" class=\"dataframe\">\n",
              "  <thead>\n",
              "    <tr style=\"text-align: right;\">\n",
              "      <th></th>\n",
              "      <th>english_sent</th>\n",
              "      <th>hindi_sent</th>\n",
              "      <th>eng_sent_length</th>\n",
              "      <th>hindi_sent_length</th>\n",
              "    </tr>\n",
              "  </thead>\n",
              "  <tbody>\n",
              "    <tr>\n",
              "      <th>710316</th>\n",
              "      <td>the chinese ambassador and its indian counterp...</td>\n",
              "      <td>&lt;start&gt;उसने गाड़ी अधिकतम प्राप्य कीमत पर बेची।...</td>\n",
              "      <td>9</td>\n",
              "      <td>7</td>\n",
              "    </tr>\n",
              "    <tr>\n",
              "      <th>609385</th>\n",
              "      <td>occupation money</td>\n",
              "      <td>&lt;start&gt;प्रिंट सर्वर&lt;end&gt;</td>\n",
              "      <td>2</td>\n",
              "      <td>2</td>\n",
              "    </tr>\n",
              "    <tr>\n",
              "      <th>202646</th>\n",
              "      <td>search of post office through pin code</td>\n",
              "      <td>&lt;start&gt;सड़क निर्माण में जहाँ कहीं भी आवश्यक हो...</td>\n",
              "      <td>7</td>\n",
              "      <td>14</td>\n",
              "    </tr>\n",
              "    <tr>\n",
              "      <th>249146</th>\n",
              "      <td>a person in any institution entrusted with the...</td>\n",
              "      <td>&lt;start&gt;मज़े के लिए किसी जानवर को सताना।&lt;end&gt;</td>\n",
              "      <td>15</td>\n",
              "      <td>7</td>\n",
              "    </tr>\n",
              "    <tr>\n",
              "      <th>726979</th>\n",
              "      <td>speaking on the occasion the president appreci...</td>\n",
              "      <td>&lt;start&gt;इसकी कार्यप्रणाली के निष्पादन हेतु स्था...</td>\n",
              "      <td>23</td>\n",
              "      <td>7</td>\n",
              "    </tr>\n",
              "  </tbody>\n",
              "</table>\n",
              "</div>"
            ],
            "text/plain": [
              "                                             english_sent  ... hindi_sent_length\n",
              "710316  the chinese ambassador and its indian counterp...  ...                 7\n",
              "609385                                   occupation money  ...                 2\n",
              "202646             search of post office through pin code  ...                14\n",
              "249146  a person in any institution entrusted with the...  ...                 7\n",
              "726979  speaking on the occasion the president appreci...  ...                 7\n",
              "\n",
              "[5 rows x 4 columns]"
            ]
          },
          "metadata": {},
          "execution_count": 87
        }
      ]
    },
    {
      "cell_type": "code",
      "source": [
        "# Create padding matrix for english sentences\n",
        "eng_pad_idx = np.zeros(shape=(1000000, 30))\n",
        "for (i, sent) in enumerate(df[\"english_sent\"]):\n",
        "    x = df[\"eng_sent_length\"].iloc[[i]]\n",
        "    if(int(x) != 30):\n",
        "        eng_pad_idx[i][int(x):] = 1"
      ],
      "metadata": {
        "id": "kbDXYCniNlLt"
      },
      "execution_count": 107,
      "outputs": []
    },
    {
      "cell_type": "markdown",
      "metadata": {
        "id": "o-KXJmVSVdtA"
      },
      "source": [
        "# Defining Model"
      ]
    },
    {
      "cell_type": "code",
      "metadata": {
        "id": "QdxXGTNnkFs0"
      },
      "source": [
        "class Transformer(nn.Module):\n",
        "    def __init__(self, \n",
        "                 embedding_size, \n",
        "                 src_vocab_size, \n",
        "                 trg_vocab_size,\n",
        "                 src_pad_idx,\n",
        "                 num_heads,\n",
        "                 num_encoder_layers,\n",
        "                 num_decoder_layers,\n",
        "                 forward_expansion,\n",
        "                 dropout,\n",
        "                 max_len,\n",
        "                 device \n",
        "    ):\n",
        "        super(Transformer, self).__init__()\n",
        "        self.src_word_embedding = nn.Embedding(src_vocab_size, embedding_size)\n",
        "        self.src_position_embedding = nn.Embedding(max_len, embedding_size)\n",
        "        self.trg_word_embedding = nn.Embedding(trg_vocab_size, embedding_size)\n",
        "        self.trg_position_embedding = nn.Embedding(max_len, embedding_size)\n",
        "        self.device = device\n",
        "        self.transformer = nn.Transformer(\n",
        "            embedding_size,\n",
        "            num_heads,\n",
        "            num_encoder_layers,\n",
        "            num_decoder_layers,\n",
        "            forward_expansion,\n",
        "            dropout\n",
        "        )\n",
        "        self.fc_out = nn.Linear(embedding_size, trg_vocab_size)\n",
        "        self.dropout = nn.Dropout(dropout)\n",
        "        self.src_pad_idx = self.src_pad_idx\n",
        "    \n",
        "    def make_src_mask(self, src_pad_idx):\n",
        "        src_pad_idx = np.where(src_pad_idx == 0, False, True)\n",
        "        return src_pad_idx\n",
        "\n",
        "    def forward(self, src, trg):\n",
        "        src_seq_length, N = src.shape\n",
        "        trg_seq_length, N = trg.shape\n",
        "\n",
        "        src_positions = (\n",
        "            torch.arange(0, src_seq_length).unsequeeze(1).expand(src_seq_length, N).to(self.device)\n",
        "        )\n",
        "        trg_positions =(\n",
        "            torch.arange(0, trg_seq_length).unsequeeze(1).expand(trg_seq_length, N).to(self.device)\n",
        "        )\n",
        "\n",
        "        embed_src = self.dropout(\n",
        "            (self.src_word_embedding(src) + self.src_position_embedding(src_postitions))\n",
        "        )\n",
        "        embed_trg = self.dropout(\n",
        "            (self.trg_word_embdedding(trg) + self.trg_postition_embedding(trg_positions))\n",
        "        )\n",
        "         \n",
        "\n",
        "        src_padding_mask = self.make_src_mask(src_pad_idx)\n",
        "        trg_mask = self.transformer.generate_square_subsequent_mask(trg_seq_length).to(self.device)\n",
        "\n",
        "        out = self.transformer(\n",
        "            embed_src,\n",
        "            embed_trg,\n",
        "            src_key_padding_mask = src_padding_mask,\n",
        "            trg_mask = trg_mask \n",
        "        )    \n",
        "        return out "
      ],
      "execution_count": 95,
      "outputs": []
    },
    {
      "cell_type": "markdown",
      "metadata": {
        "id": "mkeYBP8UVpMN"
      },
      "source": [
        "# Training Model"
      ]
    },
    {
      "cell_type": "code",
      "metadata": {
        "id": "C1d4XJBVkqA2"
      },
      "source": [
        "# Setup training phase\n",
        "device = torch.device(\"cuda\" if torch.cuda.is_available() else \"cpu\")\n",
        "load_model = False\n",
        "save_model = True\n",
        "\n",
        "# Tranining Hyperparameters\n",
        "num_epochs = 5\n",
        "learning_rate = 3e-4\n",
        "batch_size = 32\n",
        "\n",
        "# Model Hyperparameters\n",
        "src_vocab_size = len(english_words)\n",
        "trg_vocab_size = len(hindi_words)\n",
        "embedding_size = 512\n",
        "num_heads = 8\n",
        "num_encoder_layers = 6\n",
        "num_decoder_layers = 6\n",
        "dropout = 0.10\n",
        "max_length = 30\n",
        "forward_expansion = 4\n",
        "src_pad_idx = eng_pad_idx"
      ],
      "execution_count": 90,
      "outputs": []
    },
    {
      "cell_type": "code",
      "source": [
        "model = Transformer(\n",
        "    embedding_size,\n",
        "    src_vocab_size,\n",
        "    trg_vocab_size,\n",
        "    src_pad_idx,\n",
        "    num_heads,\n",
        "    num_encoder_layers,\n",
        "    num_decoder_layers,\n",
        "    forward_expansion,\n",
        "    dropout,\n",
        "    max_length,\n",
        "    device\n",
        ").to(device)"
      ],
      "metadata": {
        "id": "0AL6KZm-YQwV"
      },
      "execution_count": 96,
      "outputs": []
    },
    {
      "cell_type": "code",
      "source": [
        "optimizer = optim.Adam(model.parameters(), lr = learning_rate)\n",
        "\n",
        "loss_func = nn.CrossEntropyLoss(ignore_index = src_pad_idx)"
      ],
      "metadata": {
        "id": "52QsvsqlYQsy"
      },
      "execution_count": null,
      "outputs": []
    },
    {
      "cell_type": "code",
      "source": [
        ""
      ],
      "metadata": {
        "id": "k8Im4qaJYQqj"
      },
      "execution_count": null,
      "outputs": []
    },
    {
      "cell_type": "code",
      "source": [
        ""
      ],
      "metadata": {
        "id": "_D_UF9VaYQoW"
      },
      "execution_count": null,
      "outputs": []
    }
  ]
}